{
 "cells": [
  {
   "cell_type": "markdown",
   "id": "e9bc334a",
   "metadata": {
    "papermill": {
     "duration": 0.032343,
     "end_time": "2022-12-28T02:42:55.217732",
     "exception": false,
     "start_time": "2022-12-28T02:42:55.185389",
     "status": "completed"
    },
    "tags": []
   },
   "source": [
    "# Import Libraries"
   ]
  },
  {
   "cell_type": "code",
   "execution_count": 1,
   "id": "316b4fa7",
   "metadata": {
    "execution": {
     "iopub.execute_input": "2022-12-28T02:42:55.286839Z",
     "iopub.status.busy": "2022-12-28T02:42:55.285799Z",
     "iopub.status.idle": "2022-12-28T02:42:57.140575Z",
     "shell.execute_reply": "2022-12-28T02:42:57.138947Z"
    },
    "papermill": {
     "duration": 1.893422,
     "end_time": "2022-12-28T02:42:57.143820",
     "exception": false,
     "start_time": "2022-12-28T02:42:55.250398",
     "status": "completed"
    },
    "tags": []
   },
   "outputs": [],
   "source": [
    "import numpy as np\n",
    "import pandas as pd\n",
    "import seaborn as sns\n",
    "import matplotlib.pyplot as plt\n",
    "from sklearn import svm\n",
    "from sklearn.model_selection import train_test_split\n",
    "from sklearn.metrics import f1_score, confusion_matrix, accuracy_score, precision_score, recall_score, roc_auc_score, classification_report, roc_curve\n",
    "import scipy.stats as stats\n",
    "from sklearn.model_selection import GridSearchCV\n",
    "from sklearn.linear_model import LogisticRegression\n",
    "from sklearn.ensemble import BaggingClassifier, RandomForestClassifier, GradientBoostingClassifier, AdaBoostClassifier\n",
    "from xgboost import XGBClassifier\n",
    "import warnings\n",
    "warnings.filterwarnings('ignore')"
   ]
  },
  {
   "cell_type": "markdown",
   "id": "94634380",
   "metadata": {
    "papermill": {
     "duration": 0.031142,
     "end_time": "2022-12-28T02:42:57.207347",
     "exception": false,
     "start_time": "2022-12-28T02:42:57.176205",
     "status": "completed"
    },
    "tags": []
   },
   "source": [
    "# Load Data"
   ]
  },
  {
   "cell_type": "markdown",
   "id": "a645bb2a",
   "metadata": {
    "papermill": {
     "duration": 0.029972,
     "end_time": "2022-12-28T02:42:57.269987",
     "exception": false,
     "start_time": "2022-12-28T02:42:57.240015",
     "status": "completed"
    },
    "tags": []
   },
   "source": [
    "### Data Source:\n",
    "https://www.kaggle.com/datasets/devzohaib/eligibility-prediction-for-loan?resource=download"
   ]
  },
  {
   "cell_type": "code",
   "execution_count": 2,
   "id": "3d5f62e8",
   "metadata": {
    "execution": {
     "iopub.execute_input": "2022-12-28T02:42:57.335357Z",
     "iopub.status.busy": "2022-12-28T02:42:57.334702Z",
     "iopub.status.idle": "2022-12-28T02:42:57.357222Z",
     "shell.execute_reply": "2022-12-28T02:42:57.356285Z"
    },
    "papermill": {
     "duration": 0.0577,
     "end_time": "2022-12-28T02:42:57.359809",
     "exception": false,
     "start_time": "2022-12-28T02:42:57.302109",
     "status": "completed"
    },
    "tags": []
   },
   "outputs": [],
   "source": [
    "loan_data = pd.read_csv('/kaggle/input/eligibility-prediction-for-loan/Loan_Data.csv')"
   ]
  },
  {
   "cell_type": "markdown",
   "id": "37d61f79",
   "metadata": {
    "papermill": {
     "duration": 0.03108,
     "end_time": "2022-12-28T02:42:57.421207",
     "exception": false,
     "start_time": "2022-12-28T02:42:57.390127",
     "status": "completed"
    },
    "tags": []
   },
   "source": [
    "Problem Statement:\n",
    "\n",
    "Dream Housing Finance company deals in all kinds of home loans. They want to be able to predict whether a prospective customer will be eligible for a loan or not, and therefore, have some targeted marketing campaigns. To achieve this, they would be looking for a model that most accurately predicts eligible customers. Thus, the model that most accurately predicts 'Y' as as 'Y' should be selected. That is, the model with the highest ACCURACY."
   ]
  },
  {
   "cell_type": "code",
   "execution_count": 3,
   "id": "c9648ee6",
   "metadata": {
    "execution": {
     "iopub.execute_input": "2022-12-28T02:42:57.485305Z",
     "iopub.status.busy": "2022-12-28T02:42:57.484620Z",
     "iopub.status.idle": "2022-12-28T02:42:57.515248Z",
     "shell.execute_reply": "2022-12-28T02:42:57.513737Z"
    },
    "papermill": {
     "duration": 0.066465,
     "end_time": "2022-12-28T02:42:57.518738",
     "exception": false,
     "start_time": "2022-12-28T02:42:57.452273",
     "status": "completed"
    },
    "tags": []
   },
   "outputs": [
    {
     "name": "stdout",
     "output_type": "stream",
     "text": [
      "<class 'pandas.core.frame.DataFrame'>\n",
      "RangeIndex: 614 entries, 0 to 613\n",
      "Data columns (total 13 columns):\n",
      " #   Column             Non-Null Count  Dtype  \n",
      "---  ------             --------------  -----  \n",
      " 0   Loan_ID            614 non-null    object \n",
      " 1   Gender             601 non-null    object \n",
      " 2   Married            611 non-null    object \n",
      " 3   Dependents         599 non-null    object \n",
      " 4   Education          614 non-null    object \n",
      " 5   Self_Employed      582 non-null    object \n",
      " 6   ApplicantIncome    614 non-null    int64  \n",
      " 7   CoapplicantIncome  614 non-null    float64\n",
      " 8   LoanAmount         592 non-null    float64\n",
      " 9   Loan_Amount_Term   600 non-null    float64\n",
      " 10  Credit_History     564 non-null    float64\n",
      " 11  Property_Area      614 non-null    object \n",
      " 12  Loan_Status        614 non-null    object \n",
      "dtypes: float64(4), int64(1), object(8)\n",
      "memory usage: 62.5+ KB\n"
     ]
    }
   ],
   "source": [
    "loan_data.info()"
   ]
  },
  {
   "cell_type": "code",
   "execution_count": 4,
   "id": "a1a80fb4",
   "metadata": {
    "execution": {
     "iopub.execute_input": "2022-12-28T02:42:57.586963Z",
     "iopub.status.busy": "2022-12-28T02:42:57.585678Z",
     "iopub.status.idle": "2022-12-28T02:42:57.615037Z",
     "shell.execute_reply": "2022-12-28T02:42:57.614076Z"
    },
    "papermill": {
     "duration": 0.064757,
     "end_time": "2022-12-28T02:42:57.617339",
     "exception": false,
     "start_time": "2022-12-28T02:42:57.552582",
     "status": "completed"
    },
    "tags": []
   },
   "outputs": [
    {
     "data": {
      "text/html": [
       "<div>\n",
       "<style scoped>\n",
       "    .dataframe tbody tr th:only-of-type {\n",
       "        vertical-align: middle;\n",
       "    }\n",
       "\n",
       "    .dataframe tbody tr th {\n",
       "        vertical-align: top;\n",
       "    }\n",
       "\n",
       "    .dataframe thead th {\n",
       "        text-align: right;\n",
       "    }\n",
       "</style>\n",
       "<table border=\"1\" class=\"dataframe\">\n",
       "  <thead>\n",
       "    <tr style=\"text-align: right;\">\n",
       "      <th></th>\n",
       "      <th>Loan_ID</th>\n",
       "      <th>Gender</th>\n",
       "      <th>Married</th>\n",
       "      <th>Dependents</th>\n",
       "      <th>Education</th>\n",
       "      <th>Self_Employed</th>\n",
       "      <th>ApplicantIncome</th>\n",
       "      <th>CoapplicantIncome</th>\n",
       "      <th>LoanAmount</th>\n",
       "      <th>Loan_Amount_Term</th>\n",
       "      <th>Credit_History</th>\n",
       "      <th>Property_Area</th>\n",
       "      <th>Loan_Status</th>\n",
       "    </tr>\n",
       "  </thead>\n",
       "  <tbody>\n",
       "    <tr>\n",
       "      <th>0</th>\n",
       "      <td>LP001002</td>\n",
       "      <td>Male</td>\n",
       "      <td>No</td>\n",
       "      <td>0</td>\n",
       "      <td>Graduate</td>\n",
       "      <td>No</td>\n",
       "      <td>5849</td>\n",
       "      <td>0.0</td>\n",
       "      <td>NaN</td>\n",
       "      <td>360.0</td>\n",
       "      <td>1.0</td>\n",
       "      <td>Urban</td>\n",
       "      <td>Y</td>\n",
       "    </tr>\n",
       "    <tr>\n",
       "      <th>1</th>\n",
       "      <td>LP001003</td>\n",
       "      <td>Male</td>\n",
       "      <td>Yes</td>\n",
       "      <td>1</td>\n",
       "      <td>Graduate</td>\n",
       "      <td>No</td>\n",
       "      <td>4583</td>\n",
       "      <td>1508.0</td>\n",
       "      <td>128.0</td>\n",
       "      <td>360.0</td>\n",
       "      <td>1.0</td>\n",
       "      <td>Rural</td>\n",
       "      <td>N</td>\n",
       "    </tr>\n",
       "    <tr>\n",
       "      <th>2</th>\n",
       "      <td>LP001005</td>\n",
       "      <td>Male</td>\n",
       "      <td>Yes</td>\n",
       "      <td>0</td>\n",
       "      <td>Graduate</td>\n",
       "      <td>Yes</td>\n",
       "      <td>3000</td>\n",
       "      <td>0.0</td>\n",
       "      <td>66.0</td>\n",
       "      <td>360.0</td>\n",
       "      <td>1.0</td>\n",
       "      <td>Urban</td>\n",
       "      <td>Y</td>\n",
       "    </tr>\n",
       "    <tr>\n",
       "      <th>3</th>\n",
       "      <td>LP001006</td>\n",
       "      <td>Male</td>\n",
       "      <td>Yes</td>\n",
       "      <td>0</td>\n",
       "      <td>Not Graduate</td>\n",
       "      <td>No</td>\n",
       "      <td>2583</td>\n",
       "      <td>2358.0</td>\n",
       "      <td>120.0</td>\n",
       "      <td>360.0</td>\n",
       "      <td>1.0</td>\n",
       "      <td>Urban</td>\n",
       "      <td>Y</td>\n",
       "    </tr>\n",
       "    <tr>\n",
       "      <th>4</th>\n",
       "      <td>LP001008</td>\n",
       "      <td>Male</td>\n",
       "      <td>No</td>\n",
       "      <td>0</td>\n",
       "      <td>Graduate</td>\n",
       "      <td>No</td>\n",
       "      <td>6000</td>\n",
       "      <td>0.0</td>\n",
       "      <td>141.0</td>\n",
       "      <td>360.0</td>\n",
       "      <td>1.0</td>\n",
       "      <td>Urban</td>\n",
       "      <td>Y</td>\n",
       "    </tr>\n",
       "  </tbody>\n",
       "</table>\n",
       "</div>"
      ],
      "text/plain": [
       "    Loan_ID Gender Married Dependents     Education Self_Employed  \\\n",
       "0  LP001002   Male      No          0      Graduate            No   \n",
       "1  LP001003   Male     Yes          1      Graduate            No   \n",
       "2  LP001005   Male     Yes          0      Graduate           Yes   \n",
       "3  LP001006   Male     Yes          0  Not Graduate            No   \n",
       "4  LP001008   Male      No          0      Graduate            No   \n",
       "\n",
       "   ApplicantIncome  CoapplicantIncome  LoanAmount  Loan_Amount_Term  \\\n",
       "0             5849                0.0         NaN             360.0   \n",
       "1             4583             1508.0       128.0             360.0   \n",
       "2             3000                0.0        66.0             360.0   \n",
       "3             2583             2358.0       120.0             360.0   \n",
       "4             6000                0.0       141.0             360.0   \n",
       "\n",
       "   Credit_History Property_Area Loan_Status  \n",
       "0             1.0         Urban           Y  \n",
       "1             1.0         Rural           N  \n",
       "2             1.0         Urban           Y  \n",
       "3             1.0         Urban           Y  \n",
       "4             1.0         Urban           Y  "
      ]
     },
     "execution_count": 4,
     "metadata": {},
     "output_type": "execute_result"
    }
   ],
   "source": [
    "loan_data.head()"
   ]
  },
  {
   "cell_type": "markdown",
   "id": "53584bfc",
   "metadata": {
    "papermill": {
     "duration": 0.030696,
     "end_time": "2022-12-28T02:42:57.681735",
     "exception": false,
     "start_time": "2022-12-28T02:42:57.651039",
     "status": "completed"
    },
    "tags": []
   },
   "source": [
    "Certain columns with missing data:\n",
    "- Gender\n",
    "- Married\n",
    "- Dependents\n",
    "- Self_Employed\n",
    "- LoanAmount\n",
    "- Loan_Amount_Term\n",
    "- Credit_History"
   ]
  },
  {
   "cell_type": "markdown",
   "id": "d88969bc",
   "metadata": {
    "papermill": {
     "duration": 0.034875,
     "end_time": "2022-12-28T02:42:57.748585",
     "exception": false,
     "start_time": "2022-12-28T02:42:57.713710",
     "status": "completed"
    },
    "tags": []
   },
   "source": [
    "Mix of numerical and categorical variables:\n",
    "- Numerical Variables:\n",
    "    - ApplicantIncome\n",
    "    - CoapplicantIncome\n",
    "    - LoanAmount\n",
    "    - Loan_Amount_Term\n",
    "- Categorical Variables:\n",
    "    - Dependents\n",
    "    - Gender\n",
    "    - Married\n",
    "    - Education\n",
    "    - Self_Employed\n",
    "    - Credit_History\n",
    "    - Property_Area"
   ]
  },
  {
   "cell_type": "markdown",
   "id": "5501b04e",
   "metadata": {
    "papermill": {
     "duration": 0.031956,
     "end_time": "2022-12-28T02:42:57.811402",
     "exception": false,
     "start_time": "2022-12-28T02:42:57.779446",
     "status": "completed"
    },
    "tags": []
   },
   "source": [
    "Target variable is Loan_Status"
   ]
  },
  {
   "cell_type": "code",
   "execution_count": 5,
   "id": "10c992f9",
   "metadata": {
    "execution": {
     "iopub.execute_input": "2022-12-28T02:42:57.878426Z",
     "iopub.status.busy": "2022-12-28T02:42:57.877686Z",
     "iopub.status.idle": "2022-12-28T02:42:57.884884Z",
     "shell.execute_reply": "2022-12-28T02:42:57.883868Z"
    },
    "papermill": {
     "duration": 0.042453,
     "end_time": "2022-12-28T02:42:57.887360",
     "exception": false,
     "start_time": "2022-12-28T02:42:57.844907",
     "status": "completed"
    },
    "tags": []
   },
   "outputs": [],
   "source": [
    "# drop Index\n",
    "data = loan_data.drop(columns = ['Loan_ID'], inplace = False)"
   ]
  },
  {
   "cell_type": "code",
   "execution_count": 6,
   "id": "e8a4b8c8",
   "metadata": {
    "execution": {
     "iopub.execute_input": "2022-12-28T02:42:57.954904Z",
     "iopub.status.busy": "2022-12-28T02:42:57.953973Z",
     "iopub.status.idle": "2022-12-28T02:42:57.968345Z",
     "shell.execute_reply": "2022-12-28T02:42:57.967091Z"
    },
    "papermill": {
     "duration": 0.051359,
     "end_time": "2022-12-28T02:42:57.971264",
     "exception": false,
     "start_time": "2022-12-28T02:42:57.919905",
     "status": "completed"
    },
    "tags": []
   },
   "outputs": [
    {
     "data": {
      "text/plain": [
       "Gender                 2\n",
       "Married                2\n",
       "Dependents             4\n",
       "Education              2\n",
       "Self_Employed          2\n",
       "ApplicantIncome      505\n",
       "CoapplicantIncome    287\n",
       "LoanAmount           203\n",
       "Loan_Amount_Term      10\n",
       "Credit_History         2\n",
       "Property_Area          3\n",
       "Loan_Status            2\n",
       "dtype: int64"
      ]
     },
     "execution_count": 6,
     "metadata": {},
     "output_type": "execute_result"
    }
   ],
   "source": [
    "data.nunique()"
   ]
  },
  {
   "cell_type": "markdown",
   "id": "a8e67f81",
   "metadata": {
    "papermill": {
     "duration": 0.033104,
     "end_time": "2022-12-28T02:42:58.035521",
     "exception": false,
     "start_time": "2022-12-28T02:42:58.002417",
     "status": "completed"
    },
    "tags": []
   },
   "source": [
    "# Exploratory Data Analysis (EDA)"
   ]
  },
  {
   "cell_type": "code",
   "execution_count": 7,
   "id": "d9cfa649",
   "metadata": {
    "execution": {
     "iopub.execute_input": "2022-12-28T02:42:58.101726Z",
     "iopub.status.busy": "2022-12-28T02:42:58.101039Z",
     "iopub.status.idle": "2022-12-28T02:42:58.139794Z",
     "shell.execute_reply": "2022-12-28T02:42:58.138176Z"
    },
    "papermill": {
     "duration": 0.075839,
     "end_time": "2022-12-28T02:42:58.142817",
     "exception": false,
     "start_time": "2022-12-28T02:42:58.066978",
     "status": "completed"
    },
    "tags": []
   },
   "outputs": [
    {
     "data": {
      "text/html": [
       "<div>\n",
       "<style scoped>\n",
       "    .dataframe tbody tr th:only-of-type {\n",
       "        vertical-align: middle;\n",
       "    }\n",
       "\n",
       "    .dataframe tbody tr th {\n",
       "        vertical-align: top;\n",
       "    }\n",
       "\n",
       "    .dataframe thead th {\n",
       "        text-align: right;\n",
       "    }\n",
       "</style>\n",
       "<table border=\"1\" class=\"dataframe\">\n",
       "  <thead>\n",
       "    <tr style=\"text-align: right;\">\n",
       "      <th></th>\n",
       "      <th>count</th>\n",
       "      <th>mean</th>\n",
       "      <th>std</th>\n",
       "      <th>min</th>\n",
       "      <th>25%</th>\n",
       "      <th>50%</th>\n",
       "      <th>75%</th>\n",
       "      <th>max</th>\n",
       "    </tr>\n",
       "  </thead>\n",
       "  <tbody>\n",
       "    <tr>\n",
       "      <th>ApplicantIncome</th>\n",
       "      <td>614.0</td>\n",
       "      <td>5403.459283</td>\n",
       "      <td>6109.041673</td>\n",
       "      <td>150.0</td>\n",
       "      <td>2877.5</td>\n",
       "      <td>3812.5</td>\n",
       "      <td>5795.00</td>\n",
       "      <td>81000.0</td>\n",
       "    </tr>\n",
       "    <tr>\n",
       "      <th>CoapplicantIncome</th>\n",
       "      <td>614.0</td>\n",
       "      <td>1621.245798</td>\n",
       "      <td>2926.248369</td>\n",
       "      <td>0.0</td>\n",
       "      <td>0.0</td>\n",
       "      <td>1188.5</td>\n",
       "      <td>2297.25</td>\n",
       "      <td>41667.0</td>\n",
       "    </tr>\n",
       "    <tr>\n",
       "      <th>LoanAmount</th>\n",
       "      <td>592.0</td>\n",
       "      <td>146.412162</td>\n",
       "      <td>85.587325</td>\n",
       "      <td>9.0</td>\n",
       "      <td>100.0</td>\n",
       "      <td>128.0</td>\n",
       "      <td>168.00</td>\n",
       "      <td>700.0</td>\n",
       "    </tr>\n",
       "    <tr>\n",
       "      <th>Loan_Amount_Term</th>\n",
       "      <td>600.0</td>\n",
       "      <td>342.000000</td>\n",
       "      <td>65.120410</td>\n",
       "      <td>12.0</td>\n",
       "      <td>360.0</td>\n",
       "      <td>360.0</td>\n",
       "      <td>360.00</td>\n",
       "      <td>480.0</td>\n",
       "    </tr>\n",
       "    <tr>\n",
       "      <th>Credit_History</th>\n",
       "      <td>564.0</td>\n",
       "      <td>0.842199</td>\n",
       "      <td>0.364878</td>\n",
       "      <td>0.0</td>\n",
       "      <td>1.0</td>\n",
       "      <td>1.0</td>\n",
       "      <td>1.00</td>\n",
       "      <td>1.0</td>\n",
       "    </tr>\n",
       "  </tbody>\n",
       "</table>\n",
       "</div>"
      ],
      "text/plain": [
       "                   count         mean          std    min     25%     50%  \\\n",
       "ApplicantIncome    614.0  5403.459283  6109.041673  150.0  2877.5  3812.5   \n",
       "CoapplicantIncome  614.0  1621.245798  2926.248369    0.0     0.0  1188.5   \n",
       "LoanAmount         592.0   146.412162    85.587325    9.0   100.0   128.0   \n",
       "Loan_Amount_Term   600.0   342.000000    65.120410   12.0   360.0   360.0   \n",
       "Credit_History     564.0     0.842199     0.364878    0.0     1.0     1.0   \n",
       "\n",
       "                       75%      max  \n",
       "ApplicantIncome    5795.00  81000.0  \n",
       "CoapplicantIncome  2297.25  41667.0  \n",
       "LoanAmount          168.00    700.0  \n",
       "Loan_Amount_Term    360.00    480.0  \n",
       "Credit_History        1.00      1.0  "
      ]
     },
     "execution_count": 7,
     "metadata": {},
     "output_type": "execute_result"
    }
   ],
   "source": [
    "data.describe().T"
   ]
  },
  {
   "cell_type": "markdown",
   "id": "efbb95aa",
   "metadata": {
    "papermill": {
     "duration": 0.031032,
     "end_time": "2022-12-28T02:42:58.207013",
     "exception": false,
     "start_time": "2022-12-28T02:42:58.175981",
     "status": "completed"
    },
    "tags": []
   },
   "source": [
    "Possibility of some outliers. However, most of the variables in real life will show some outliers so we should let the model learn to predict on outliers"
   ]
  },
  {
   "cell_type": "markdown",
   "id": "8d452772",
   "metadata": {
    "papermill": {
     "duration": 0.032282,
     "end_time": "2022-12-28T02:42:58.272634",
     "exception": false,
     "start_time": "2022-12-28T02:42:58.240352",
     "status": "completed"
    },
    "tags": []
   },
   "source": [
    "# Numerical Features - Univariate Analysis"
   ]
  },
  {
   "cell_type": "markdown",
   "id": "536868d5",
   "metadata": {
    "papermill": {
     "duration": 0.03405,
     "end_time": "2022-12-28T02:42:58.338326",
     "exception": false,
     "start_time": "2022-12-28T02:42:58.304276",
     "status": "completed"
    },
    "tags": []
   },
   "source": [
    "## Boxplot & Histogram"
   ]
  },
  {
   "cell_type": "markdown",
   "id": "2430556c",
   "metadata": {
    "papermill": {
     "duration": 0.031377,
     "end_time": "2022-12-28T02:42:58.402080",
     "exception": false,
     "start_time": "2022-12-28T02:42:58.370703",
     "status": "completed"
    },
    "tags": []
   },
   "source": [
    "### ApplicantIncome"
   ]
  },
  {
   "cell_type": "code",
   "execution_count": 8,
   "id": "47e609a6",
   "metadata": {
    "execution": {
     "iopub.execute_input": "2022-12-28T02:42:58.467333Z",
     "iopub.status.busy": "2022-12-28T02:42:58.466319Z",
     "iopub.status.idle": "2022-12-28T02:42:58.704041Z",
     "shell.execute_reply": "2022-12-28T02:42:58.702474Z"
    },
    "papermill": {
     "duration": 0.272972,
     "end_time": "2022-12-28T02:42:58.706878",
     "exception": false,
     "start_time": "2022-12-28T02:42:58.433906",
     "status": "completed"
    },
    "tags": []
   },
   "outputs": [
    {
     "data": {
      "text/plain": [
       "<AxesSubplot:xlabel='ApplicantIncome'>"
      ]
     },
     "execution_count": 8,
     "metadata": {},
     "output_type": "execute_result"
    },
    {
     "data": {
      "image/png": "[encoded data removed]",
      "text/plain": [
       "<Figure size 432x288 with 1 Axes>"
      ]
     },
     "metadata": {
      "needs_background": "light"
     },
     "output_type": "display_data"
    }
   ],
   "source": [
    "sns.boxplot(x=data['ApplicantIncome'])"
   ]
  },
  {
   "cell_type": "code",
   "execution_count": 9,
   "id": "99f742f2",
   "metadata": {
    "execution": {
     "iopub.execute_input": "2022-12-28T02:42:58.772887Z",
     "iopub.status.busy": "2022-12-28T02:42:58.772437Z",
     "iopub.status.idle": "2022-12-28T02:42:59.042324Z",
     "shell.execute_reply": "2022-12-28T02:42:59.040953Z"
    },
    "papermill": {
     "duration": 0.306478,
     "end_time": "2022-12-28T02:42:59.044868",
     "exception": false,
     "start_time": "2022-12-28T02:42:58.738390",
     "status": "completed"
    },
    "tags": []
   },
   "outputs": [
    {
     "data": {
      "text/plain": [
       "<matplotlib.lines.Line2D at 0x7f84a5ad84d0>"
      ]
     },
     "execution_count": 9,
     "metadata": {},
     "output_type": "execute_result"
    },
    {
     "data": {
      "image/png": "[encoded data removed]",
      "text/plain": [
       "<Figure size 432x288 with 1 Axes>"
      ]
     },
     "metadata": {
      "needs_background": "light"
     },
     "output_type": "display_data"
    }
   ],
   "source": [
    "import matplotlib.pyplot as plt\n",
    "hist = plt.hist(x=data['ApplicantIncome'], density = True)\n",
    "# Draw a vertical line in the histogram to visualize mean value of the numerical feature (NaNs will be ignored when calculating the mean)\n",
    "plt.axvline(data['ApplicantIncome'].mean(), color = 'red', linestyle='--')\n",
    "# Draw another vertical line in the histogram to visualize median value of the numerical feature (NaNs will be ignored when calculating the median)\n",
    "plt.axvline(data['ApplicantIncome'].median(), color = 'black', linestyle='-')"
   ]
  },
  {
   "cell_type": "markdown",
   "id": "3005bad9",
   "metadata": {
    "papermill": {
     "duration": 0.031461,
     "end_time": "2022-12-28T02:42:59.108994",
     "exception": false,
     "start_time": "2022-12-28T02:42:59.077533",
     "status": "completed"
    },
    "tags": []
   },
   "source": [
    "Observations:\n",
    "- Positiveky skewed distribution\n",
    "- Outliers on right hand side, but expected with Income\n",
    "- Mean and Median close enough"
   ]
  },
  {
   "cell_type": "markdown",
   "id": "2a7909f9",
   "metadata": {
    "papermill": {
     "duration": 0.032269,
     "end_time": "2022-12-28T02:42:59.175032",
     "exception": false,
     "start_time": "2022-12-28T02:42:59.142763",
     "status": "completed"
    },
    "tags": []
   },
   "source": [
    "### CoapplicantIncome"
   ]
  },
  {
   "cell_type": "code",
   "execution_count": 10,
   "id": "6ca6fab9",
   "metadata": {
    "execution": {
     "iopub.execute_input": "2022-12-28T02:42:59.243308Z",
     "iopub.status.busy": "2022-12-28T02:42:59.242877Z",
     "iopub.status.idle": "2022-12-28T02:42:59.435230Z",
     "shell.execute_reply": "2022-12-28T02:42:59.433758Z"
    },
    "papermill": {
     "duration": 0.230925,
     "end_time": "2022-12-28T02:42:59.438551",
     "exception": false,
     "start_time": "2022-12-28T02:42:59.207626",
     "status": "completed"
    },
    "tags": []
   },
   "outputs": [
    {
     "data": {
      "text/plain": [
       "<AxesSubplot:xlabel='CoapplicantIncome'>"
      ]
     },
     "execution_count": 10,
     "metadata": {},
     "output_type": "execute_result"
    },
    {
     "data": {
      "image/png": "[encoded data removed]",
      "text/plain": [
       "<Figure size 432x288 with 1 Axes>"
      ]
     },
     "metadata": {
      "needs_background": "light"
     },
     "output_type": "display_data"
    }
   ],
   "source": [
    "sns.boxplot(x=data['CoapplicantIncome'])"
   ]
  },
  {
   "cell_type": "code",
   "execution_count": 11,
   "id": "e3414cc3",
   "metadata": {
    "execution": {
     "iopub.execute_input": "2022-12-28T02:42:59.507239Z",
     "iopub.status.busy": "2022-12-28T02:42:59.506493Z",
     "iopub.status.idle": "2022-12-28T02:42:59.740191Z",
     "shell.execute_reply": "2022-12-28T02:42:59.738995Z"
    },
    "papermill": {
     "duration": 0.270434,
     "end_time": "2022-12-28T02:42:59.742856",
     "exception": false,
     "start_time": "2022-12-28T02:42:59.472422",
     "status": "completed"
    },
    "tags": []
   },
   "outputs": [
    {
     "data": {
      "text/plain": [
       "<matplotlib.lines.Line2D at 0x7f84a589f790>"
      ]
     },
     "execution_count": 11,
     "metadata": {},
     "output_type": "execute_result"
    },
    {
     "data": {
      "image/png": "[encoded data removed]",
      "text/plain": [
       "<Figure size 432x288 with 1 Axes>"
      ]
     },
     "metadata": {
      "needs_background": "light"
     },
     "output_type": "display_data"
    }
   ],
   "source": [
    "hist = plt.hist(x=data['CoapplicantIncome'], density = True)\n",
    "# Draw a vertical line in the histogram to visualize mean value of the numerical feature (NaNs will be ignored when calculating the mean)\n",
    "plt.axvline(data['CoapplicantIncome'].mean(), color = 'red', linestyle='--')\n",
    "# Draw another vertical line in the histogram to visualize median value of the numerical feature (NaNs will be ignored when calculating the median)\n",
    "plt.axvline(data['CoapplicantIncome'].median(), color = 'black', linestyle='-')"
   ]
  },
  {
   "cell_type": "markdown",
   "id": "83ac9482",
   "metadata": {
    "papermill": {
     "duration": 0.033093,
     "end_time": "2022-12-28T02:42:59.811603",
     "exception": false,
     "start_time": "2022-12-28T02:42:59.778510",
     "status": "completed"
    },
    "tags": []
   },
   "source": [
    "Observations:\n",
    "- Positiveky skewed distribution\n",
    "- Outliers on right hand side, but expected with Income\n",
    "- Mean and Median close enough"
   ]
  },
  {
   "cell_type": "markdown",
   "id": "50f5ef1e",
   "metadata": {
    "papermill": {
     "duration": 0.032608,
     "end_time": "2022-12-28T02:42:59.877104",
     "exception": false,
     "start_time": "2022-12-28T02:42:59.844496",
     "status": "completed"
    },
    "tags": []
   },
   "source": [
    "### LoanAmount"
   ]
  },
  {
   "cell_type": "code",
   "execution_count": 12,
   "id": "425a3d9a",
   "metadata": {
    "execution": {
     "iopub.execute_input": "2022-12-28T02:42:59.946093Z",
     "iopub.status.busy": "2022-12-28T02:42:59.945653Z",
     "iopub.status.idle": "2022-12-28T02:43:00.150383Z",
     "shell.execute_reply": "2022-12-28T02:43:00.148942Z"
    },
    "papermill": {
     "duration": 0.243234,
     "end_time": "2022-12-28T02:43:00.153265",
     "exception": false,
     "start_time": "2022-12-28T02:42:59.910031",
     "status": "completed"
    },
    "tags": []
   },
   "outputs": [
    {
     "data": {
      "text/plain": [
       "<AxesSubplot:xlabel='LoanAmount'>"
      ]
     },
     "execution_count": 12,
     "metadata": {},
     "output_type": "execute_result"
    },
    {
     "data": {
      "image/png": "[encoded data removed]",
      "text/plain": [
       "<Figure size 432x288 with 1 Axes>"
      ]
     },
     "metadata": {
      "needs_background": "light"
     },
     "output_type": "display_data"
    }
   ],
   "source": [
    "sns.boxplot(x=data['LoanAmount'])"
   ]
  },
  {
   "cell_type": "code",
   "execution_count": 13,
   "id": "e96e6314",
   "metadata": {
    "execution": {
     "iopub.execute_input": "2022-12-28T02:43:00.222530Z",
     "iopub.status.busy": "2022-12-28T02:43:00.221572Z",
     "iopub.status.idle": "2022-12-28T02:43:00.489541Z",
     "shell.execute_reply": "2022-12-28T02:43:00.488106Z"
    },
    "papermill": {
     "duration": 0.306053,
     "end_time": "2022-12-28T02:43:00.492563",
     "exception": false,
     "start_time": "2022-12-28T02:43:00.186510",
     "status": "completed"
    },
    "tags": []
   },
   "outputs": [
    {
     "data": {
      "text/plain": [
       "<matplotlib.lines.Line2D at 0x7f84a58ad6d0>"
      ]
     },
     "execution_count": 13,
     "metadata": {},
     "output_type": "execute_result"
    },
    {
     "data": {
      "image/png": "[encoded data removed]",
      "text/plain": [
       "<Figure size 432x288 with 1 Axes>"
      ]
     },
     "metadata": {
      "needs_background": "light"
     },
     "output_type": "display_data"
    }
   ],
   "source": [
    "hist = plt.hist(x=data['LoanAmount'], density = True)\n",
    "# Draw a vertical line in the histogram to visualize mean value of the numerical feature (NaNs will be ignored when calculating the mean)\n",
    "plt.axvline(data['LoanAmount'].mean(), color = 'red', linestyle='--')\n",
    "# Draw another vertical line in the histogram to visualize median value of the numerical feature (NaNs will be ignored when calculating the median)\n",
    "plt.axvline(data['LoanAmount'].median(), color = 'black', linestyle='-')"
   ]
  },
  {
   "cell_type": "markdown",
   "id": "4aa68393",
   "metadata": {
    "papermill": {
     "duration": 0.036153,
     "end_time": "2022-12-28T02:43:00.564712",
     "exception": false,
     "start_time": "2022-12-28T02:43:00.528559",
     "status": "completed"
    },
    "tags": []
   },
   "source": [
    "Observations:\n",
    "- Slightly positiveky skewed distribution\n",
    "- Outliers on right hand side, which may need to be treated\n",
    "- Mean and Median close enough"
   ]
  },
  {
   "cell_type": "markdown",
   "id": "7e71b1cc",
   "metadata": {
    "papermill": {
     "duration": 0.035371,
     "end_time": "2022-12-28T02:43:00.633872",
     "exception": false,
     "start_time": "2022-12-28T02:43:00.598501",
     "status": "completed"
    },
    "tags": []
   },
   "source": [
    "# Categorical Features - Univariate Analysis"
   ]
  },
  {
   "cell_type": "markdown",
   "id": "492738bb",
   "metadata": {
    "papermill": {
     "duration": 0.032814,
     "end_time": "2022-12-28T02:43:00.703033",
     "exception": false,
     "start_time": "2022-12-28T02:43:00.670219",
     "status": "completed"
    },
    "tags": []
   },
   "source": [
    "### Dependents"
   ]
  },
  {
   "cell_type": "code",
   "execution_count": 14,
   "id": "fed18563",
   "metadata": {
    "execution": {
     "iopub.execute_input": "2022-12-28T02:43:00.774855Z",
     "iopub.status.busy": "2022-12-28T02:43:00.774397Z",
     "iopub.status.idle": "2022-12-28T02:43:01.001572Z",
     "shell.execute_reply": "2022-12-28T02:43:01.000361Z"
    },
    "papermill": {
     "duration": 0.265147,
     "end_time": "2022-12-28T02:43:01.004224",
     "exception": false,
     "start_time": "2022-12-28T02:43:00.739077",
     "status": "completed"
    },
    "scrolled": true,
    "tags": []
   },
   "outputs": [
    {
     "data": {
      "text/plain": [
       "(array([0, 1, 2, 3]),\n",
       " [Text(0, 0, '0'), Text(1, 0, '1'), Text(2, 0, '2'), Text(3, 0, '3+')])"
      ]
     },
     "execution_count": 14,
     "metadata": {},
     "output_type": "execute_result"
    },
    {
     "data": {
      "image/png": "[encoded data removed]",
      "text/plain": [
       "<Figure size 432x288 with 1 Axes>"
      ]
     },
     "metadata": {
      "needs_background": "light"
     },
     "output_type": "display_data"
    }
   ],
   "source": [
    "data['Dependents'].value_counts(normalize = True).plot.bar()\n",
    "plt.xticks(rotation = 0)"
   ]
  },
  {
   "cell_type": "markdown",
   "id": "b7f296e5",
   "metadata": {
    "papermill": {
     "duration": 0.033576,
     "end_time": "2022-12-28T02:43:01.072050",
     "exception": false,
     "start_time": "2022-12-28T02:43:01.038474",
     "status": "completed"
    },
    "tags": []
   },
   "source": [
    "Observation:\n",
    "- Almost 60% of population has 0 dependents"
   ]
  },
  {
   "cell_type": "markdown",
   "id": "47158c56",
   "metadata": {
    "papermill": {
     "duration": 0.034064,
     "end_time": "2022-12-28T02:43:01.140074",
     "exception": false,
     "start_time": "2022-12-28T02:43:01.106010",
     "status": "completed"
    },
    "tags": []
   },
   "source": [
    "### Gender"
   ]
  },
  {
   "cell_type": "code",
   "execution_count": 15,
   "id": "e52f6143",
   "metadata": {
    "execution": {
     "iopub.execute_input": "2022-12-28T02:43:01.210686Z",
     "iopub.status.busy": "2022-12-28T02:43:01.209734Z",
     "iopub.status.idle": "2022-12-28T02:43:01.411885Z",
     "shell.execute_reply": "2022-12-28T02:43:01.410657Z"
    },
    "papermill": {
     "duration": 0.240159,
     "end_time": "2022-12-28T02:43:01.414533",
     "exception": false,
     "start_time": "2022-12-28T02:43:01.174374",
     "status": "completed"
    },
    "scrolled": true,
    "tags": []
   },
   "outputs": [
    {
     "data": {
      "text/plain": [
       "(array([0, 1]), [Text(0, 0, 'Male'), Text(1, 0, 'Female')])"
      ]
     },
     "execution_count": 15,
     "metadata": {},
     "output_type": "execute_result"
    },
    {
     "data": {
      "image/png": "[encoded data removed]",
      "text/plain": [
       "<Figure size 432x288 with 1 Axes>"
      ]
     },
     "metadata": {
      "needs_background": "light"
     },
     "output_type": "display_data"
    }
   ],
   "source": [
    "data['Gender'].value_counts(normalize = True).plot.bar()\n",
    "plt.xticks(rotation = 0)"
   ]
  },
  {
   "cell_type": "markdown",
   "id": "fb1c83c8",
   "metadata": {
    "papermill": {
     "duration": 0.034965,
     "end_time": "2022-12-28T02:43:01.483994",
     "exception": false,
     "start_time": "2022-12-28T02:43:01.449029",
     "status": "completed"
    },
    "tags": []
   },
   "source": [
    "Observation:\n",
    "- Almost 80% of population is Male"
   ]
  },
  {
   "cell_type": "markdown",
   "id": "ebb5eec1",
   "metadata": {
    "papermill": {
     "duration": 0.033566,
     "end_time": "2022-12-28T02:43:01.551778",
     "exception": false,
     "start_time": "2022-12-28T02:43:01.518212",
     "status": "completed"
    },
    "tags": []
   },
   "source": [
    "### Married"
   ]
  },
  {
   "cell_type": "code",
   "execution_count": 16,
   "id": "490884fd",
   "metadata": {
    "execution": {
     "iopub.execute_input": "2022-12-28T02:43:01.620453Z",
     "iopub.status.busy": "2022-12-28T02:43:01.620017Z",
     "iopub.status.idle": "2022-12-28T02:43:01.816141Z",
     "shell.execute_reply": "2022-12-28T02:43:01.815167Z"
    },
    "papermill": {
     "duration": 0.233384,
     "end_time": "2022-12-28T02:43:01.818717",
     "exception": false,
     "start_time": "2022-12-28T02:43:01.585333",
     "status": "completed"
    },
    "scrolled": true,
    "tags": []
   },
   "outputs": [
    {
     "data": {
      "text/plain": [
       "(array([0, 1]), [Text(0, 0, 'Yes'), Text(1, 0, 'No')])"
      ]
     },
     "execution_count": 16,
     "metadata": {},
     "output_type": "execute_result"
    },
    {
     "data": {
      "image/png": "[encoded data removed]",
      "text/plain": [
       "<Figure size 432x288 with 1 Axes>"
      ]
     },
     "metadata": {
      "needs_background": "light"
     },
     "output_type": "display_data"
    }
   ],
   "source": [
    "data['Married'].value_counts(normalize = True).plot.bar()\n",
    "plt.xticks(rotation = 0)"
   ]
  },
  {
   "cell_type": "markdown",
   "id": "4e9c5250",
   "metadata": {
    "papermill": {
     "duration": 0.03482,
     "end_time": "2022-12-28T02:43:01.890023",
     "exception": false,
     "start_time": "2022-12-28T02:43:01.855203",
     "status": "completed"
    },
    "tags": []
   },
   "source": [
    "Observation:\n",
    "- Alittle over 60% of population is Married"
   ]
  },
  {
   "cell_type": "markdown",
   "id": "f7a54322",
   "metadata": {
    "papermill": {
     "duration": 0.034814,
     "end_time": "2022-12-28T02:43:01.959784",
     "exception": false,
     "start_time": "2022-12-28T02:43:01.924970",
     "status": "completed"
    },
    "tags": []
   },
   "source": [
    "### Education"
   ]
  },
  {
   "cell_type": "code",
   "execution_count": 17,
   "id": "25a61c66",
   "metadata": {
    "execution": {
     "iopub.execute_input": "2022-12-28T02:43:02.033234Z",
     "iopub.status.busy": "2022-12-28T02:43:02.032047Z",
     "iopub.status.idle": "2022-12-28T02:43:02.248205Z",
     "shell.execute_reply": "2022-12-28T02:43:02.246746Z"
    },
    "papermill": {
     "duration": 0.256299,
     "end_time": "2022-12-28T02:43:02.251042",
     "exception": false,
     "start_time": "2022-12-28T02:43:01.994743",
     "status": "completed"
    },
    "scrolled": true,
    "tags": []
   },
   "outputs": [
    {
     "data": {
      "text/plain": [
       "(array([0, 1]), [Text(0, 0, 'Graduate'), Text(1, 0, 'Not Graduate')])"
      ]
     },
     "execution_count": 17,
     "metadata": {},
     "output_type": "execute_result"
    },
    {
     "data": {
      "image/png": "[encoded data removed]",
      "text/plain": [
       "<Figure size 432x288 with 1 Axes>"
      ]
     },
     "metadata": {
      "needs_background": "light"
     },
     "output_type": "display_data"
    }
   ],
   "source": [
    "data['Education'].value_counts(normalize = True).plot.bar()\n",
    "plt.xticks(rotation = 0)"
   ]
  },
  {
   "cell_type": "markdown",
   "id": "6d2e9673",
   "metadata": {
    "papermill": {
     "duration": 0.035364,
     "end_time": "2022-12-28T02:43:02.321430",
     "exception": false,
     "start_time": "2022-12-28T02:43:02.286066",
     "status": "completed"
    },
    "tags": []
   },
   "source": [
    "Observation:\n",
    "- Almost 80% of population is Graduate"
   ]
  },
  {
   "cell_type": "markdown",
   "id": "64e05de2",
   "metadata": {
    "papermill": {
     "duration": 0.034289,
     "end_time": "2022-12-28T02:43:02.391421",
     "exception": false,
     "start_time": "2022-12-28T02:43:02.357132",
     "status": "completed"
    },
    "tags": []
   },
   "source": [
    "### Self_Employed"
   ]
  },
  {
   "cell_type": "code",
   "execution_count": 18,
   "id": "bf3d0898",
   "metadata": {
    "execution": {
     "iopub.execute_input": "2022-12-28T02:43:02.464620Z",
     "iopub.status.busy": "2022-12-28T02:43:02.464226Z",
     "iopub.status.idle": "2022-12-28T02:43:02.658270Z",
     "shell.execute_reply": "2022-12-28T02:43:02.656947Z"
    },
    "papermill": {
     "duration": 0.234206,
     "end_time": "2022-12-28T02:43:02.660835",
     "exception": false,
     "start_time": "2022-12-28T02:43:02.426629",
     "status": "completed"
    },
    "scrolled": true,
    "tags": []
   },
   "outputs": [
    {
     "data": {
      "text/plain": [
       "(array([0, 1]), [Text(0, 0, 'No'), Text(1, 0, 'Yes')])"
      ]
     },
     "execution_count": 18,
     "metadata": {},
     "output_type": "execute_result"
    },
    {
     "data": {
      "image/png": "[encoded data removed]",
      "text/plain": [
       "<Figure size 432x288 with 1 Axes>"
      ]
     },
     "metadata": {
      "needs_background": "light"
     },
     "output_type": "display_data"
    }
   ],
   "source": [
    "data['Self_Employed'].value_counts(normalize = True).plot.bar()\n",
    "plt.xticks(rotation = 0)"
   ]
  },
  {
   "cell_type": "markdown",
   "id": "9e9863ce",
   "metadata": {
    "papermill": {
     "duration": 0.035097,
     "end_time": "2022-12-28T02:43:02.730650",
     "exception": false,
     "start_time": "2022-12-28T02:43:02.695553",
     "status": "completed"
    },
    "tags": []
   },
   "source": [
    "Observation:\n",
    "- Almost 80% of population is salaried"
   ]
  },
  {
   "cell_type": "markdown",
   "id": "befd7ca9",
   "metadata": {
    "papermill": {
     "duration": 0.034295,
     "end_time": "2022-12-28T02:43:02.800707",
     "exception": false,
     "start_time": "2022-12-28T02:43:02.766412",
     "status": "completed"
    },
    "tags": []
   },
   "source": [
    "### Credit_History"
   ]
  },
  {
   "cell_type": "code",
   "execution_count": 19,
   "id": "97fc87e3",
   "metadata": {
    "execution": {
     "iopub.execute_input": "2022-12-28T02:43:02.874709Z",
     "iopub.status.busy": "2022-12-28T02:43:02.874249Z",
     "iopub.status.idle": "2022-12-28T02:43:03.077437Z",
     "shell.execute_reply": "2022-12-28T02:43:03.076552Z"
    },
    "papermill": {
     "duration": 0.241662,
     "end_time": "2022-12-28T02:43:03.079844",
     "exception": false,
     "start_time": "2022-12-28T02:43:02.838182",
     "status": "completed"
    },
    "scrolled": true,
    "tags": []
   },
   "outputs": [
    {
     "data": {
      "text/plain": [
       "(array([0, 1]), [Text(0, 0, '1.0'), Text(1, 0, '0.0')])"
      ]
     },
     "execution_count": 19,
     "metadata": {},
     "output_type": "execute_result"
    },
    {
     "data": {
      "image/png": "[encoded data removed]",
      "text/plain": [
       "<Figure size 432x288 with 1 Axes>"
      ]
     },
     "metadata": {
      "needs_background": "light"
     },
     "output_type": "display_data"
    }
   ],
   "source": [
    "data['Credit_History'].value_counts(normalize = True).plot.bar()\n",
    "plt.xticks(rotation = 0)"
   ]
  },
  {
   "cell_type": "markdown",
   "id": "c746fd62",
   "metadata": {
    "papermill": {
     "duration": 0.035274,
     "end_time": "2022-12-28T02:43:03.150766",
     "exception": false,
     "start_time": "2022-12-28T02:43:03.115492",
     "status": "completed"
    },
    "tags": []
   },
   "source": [
    "Observation:\n",
    "- Almost 80% of population has a credit history"
   ]
  },
  {
   "cell_type": "markdown",
   "id": "0f6be869",
   "metadata": {
    "papermill": {
     "duration": 0.034779,
     "end_time": "2022-12-28T02:43:03.220572",
     "exception": false,
     "start_time": "2022-12-28T02:43:03.185793",
     "status": "completed"
    },
    "tags": []
   },
   "source": [
    "### Property_Area"
   ]
  },
  {
   "cell_type": "code",
   "execution_count": 20,
   "id": "45133b99",
   "metadata": {
    "execution": {
     "iopub.execute_input": "2022-12-28T02:43:03.296013Z",
     "iopub.status.busy": "2022-12-28T02:43:03.294428Z",
     "iopub.status.idle": "2022-12-28T02:43:03.521950Z",
     "shell.execute_reply": "2022-12-28T02:43:03.520494Z"
    },
    "papermill": {
     "duration": 0.268122,
     "end_time": "2022-12-28T02:43:03.524760",
     "exception": false,
     "start_time": "2022-12-28T02:43:03.256638",
     "status": "completed"
    },
    "scrolled": true,
    "tags": []
   },
   "outputs": [
    {
     "data": {
      "text/plain": [
       "(array([0, 1, 2]),\n",
       " [Text(0, 0, 'Semiurban'), Text(1, 0, 'Urban'), Text(2, 0, 'Rural')])"
      ]
     },
     "execution_count": 20,
     "metadata": {},
     "output_type": "execute_result"
    },
    {
     "data": {
      "image/png": "[encoded data removed]",
      "text/plain": [
       "<Figure size 432x288 with 1 Axes>"
      ]
     },
     "metadata": {
      "needs_background": "light"
     },
     "output_type": "display_data"
    }
   ],
   "source": [
    "data['Property_Area'].value_counts(normalize = True).plot.bar()\n",
    "plt.xticks(rotation = 0)"
   ]
  },
  {
   "cell_type": "markdown",
   "id": "9fc9abae",
   "metadata": {
    "papermill": {
     "duration": 0.036082,
     "end_time": "2022-12-28T02:43:03.597456",
     "exception": false,
     "start_time": "2022-12-28T02:43:03.561374",
     "status": "completed"
    },
    "tags": []
   },
   "source": [
    "Observation:\n",
    "- Majority of population resides in Urban / Semi-Urban areas"
   ]
  },
  {
   "cell_type": "markdown",
   "id": "acf24e9f",
   "metadata": {
    "papermill": {
     "duration": 0.036855,
     "end_time": "2022-12-28T02:43:03.673228",
     "exception": false,
     "start_time": "2022-12-28T02:43:03.636373",
     "status": "completed"
    },
    "tags": []
   },
   "source": [
    "# Bivariate / Multivariate Analysis"
   ]
  },
  {
   "cell_type": "code",
   "execution_count": 21,
   "id": "2da0b61e",
   "metadata": {
    "execution": {
     "iopub.execute_input": "2022-12-28T02:43:03.755981Z",
     "iopub.status.busy": "2022-12-28T02:43:03.755510Z",
     "iopub.status.idle": "2022-12-28T02:43:11.553633Z",
     "shell.execute_reply": "2022-12-28T02:43:11.552735Z"
    },
    "papermill": {
     "duration": 7.846144,
     "end_time": "2022-12-28T02:43:11.557296",
     "exception": false,
     "start_time": "2022-12-28T02:43:03.711152",
     "status": "completed"
    },
    "scrolled": true,
    "tags": []
   },
   "outputs": [
    {
     "data": {
      "text/plain": [
       "<seaborn.axisgrid.PairGrid at 0x7f84a5357910>"
      ]
     },
     "execution_count": 21,
     "metadata": {},
     "output_type": "execute_result"
    },
    {
     "data": {
      "image/png": "[encoded data removed]",
      "text/plain": [
       "<Figure size 968.625x900 with 30 Axes>"
      ]
     },
     "metadata": {
      "needs_background": "light"
     },
     "output_type": "display_data"
    }
   ],
   "source": [
    "sns.pairplot(loan_data, diag_kind= 'kde', hue = 'Loan_Status')"
   ]
  },
  {
   "cell_type": "code",
   "execution_count": 22,
   "id": "85c1b2e4",
   "metadata": {
    "execution": {
     "iopub.execute_input": "2022-12-28T02:43:11.637684Z",
     "iopub.status.busy": "2022-12-28T02:43:11.636944Z",
     "iopub.status.idle": "2022-12-28T02:43:11.650540Z",
     "shell.execute_reply": "2022-12-28T02:43:11.649404Z"
    },
    "papermill": {
     "duration": 0.056802,
     "end_time": "2022-12-28T02:43:11.653011",
     "exception": false,
     "start_time": "2022-12-28T02:43:11.596209",
     "status": "completed"
    },
    "tags": []
   },
   "outputs": [
    {
     "data": {
      "text/html": [
       "<div>\n",
       "<style scoped>\n",
       "    .dataframe tbody tr th:only-of-type {\n",
       "        vertical-align: middle;\n",
       "    }\n",
       "\n",
       "    .dataframe tbody tr th {\n",
       "        vertical-align: top;\n",
       "    }\n",
       "\n",
       "    .dataframe thead th {\n",
       "        text-align: right;\n",
       "    }\n",
       "</style>\n",
       "<table border=\"1\" class=\"dataframe\">\n",
       "  <thead>\n",
       "    <tr style=\"text-align: right;\">\n",
       "      <th></th>\n",
       "      <th>ApplicantIncome</th>\n",
       "      <th>CoapplicantIncome</th>\n",
       "      <th>LoanAmount</th>\n",
       "      <th>Loan_Amount_Term</th>\n",
       "      <th>Credit_History</th>\n",
       "    </tr>\n",
       "  </thead>\n",
       "  <tbody>\n",
       "    <tr>\n",
       "      <th>ApplicantIncome</th>\n",
       "      <td>1.000000</td>\n",
       "      <td>-0.116605</td>\n",
       "      <td>0.570909</td>\n",
       "      <td>-0.045306</td>\n",
       "      <td>-0.014715</td>\n",
       "    </tr>\n",
       "    <tr>\n",
       "      <th>CoapplicantIncome</th>\n",
       "      <td>-0.116605</td>\n",
       "      <td>1.000000</td>\n",
       "      <td>0.188619</td>\n",
       "      <td>-0.059878</td>\n",
       "      <td>-0.002056</td>\n",
       "    </tr>\n",
       "    <tr>\n",
       "      <th>LoanAmount</th>\n",
       "      <td>0.570909</td>\n",
       "      <td>0.188619</td>\n",
       "      <td>1.000000</td>\n",
       "      <td>0.039447</td>\n",
       "      <td>-0.008433</td>\n",
       "    </tr>\n",
       "    <tr>\n",
       "      <th>Loan_Amount_Term</th>\n",
       "      <td>-0.045306</td>\n",
       "      <td>-0.059878</td>\n",
       "      <td>0.039447</td>\n",
       "      <td>1.000000</td>\n",
       "      <td>0.001470</td>\n",
       "    </tr>\n",
       "    <tr>\n",
       "      <th>Credit_History</th>\n",
       "      <td>-0.014715</td>\n",
       "      <td>-0.002056</td>\n",
       "      <td>-0.008433</td>\n",
       "      <td>0.001470</td>\n",
       "      <td>1.000000</td>\n",
       "    </tr>\n",
       "  </tbody>\n",
       "</table>\n",
       "</div>"
      ],
      "text/plain": [
       "                   ApplicantIncome  CoapplicantIncome  LoanAmount  \\\n",
       "ApplicantIncome           1.000000          -0.116605    0.570909   \n",
       "CoapplicantIncome        -0.116605           1.000000    0.188619   \n",
       "LoanAmount                0.570909           0.188619    1.000000   \n",
       "Loan_Amount_Term         -0.045306          -0.059878    0.039447   \n",
       "Credit_History           -0.014715          -0.002056   -0.008433   \n",
       "\n",
       "                   Loan_Amount_Term  Credit_History  \n",
       "ApplicantIncome           -0.045306       -0.014715  \n",
       "CoapplicantIncome         -0.059878       -0.002056  \n",
       "LoanAmount                 0.039447       -0.008433  \n",
       "Loan_Amount_Term           1.000000        0.001470  \n",
       "Credit_History             0.001470        1.000000  "
      ]
     },
     "execution_count": 22,
     "metadata": {},
     "output_type": "execute_result"
    }
   ],
   "source": [
    "# Identify Correlation\n",
    "data.corr()"
   ]
  },
  {
   "cell_type": "code",
   "execution_count": 23,
   "id": "24818307",
   "metadata": {
    "execution": {
     "iopub.execute_input": "2022-12-28T02:43:11.732041Z",
     "iopub.status.busy": "2022-12-28T02:43:11.731341Z",
     "iopub.status.idle": "2022-12-28T02:43:11.751687Z",
     "shell.execute_reply": "2022-12-28T02:43:11.750566Z"
    },
    "papermill": {
     "duration": 0.062772,
     "end_time": "2022-12-28T02:43:11.754212",
     "exception": false,
     "start_time": "2022-12-28T02:43:11.691440",
     "status": "completed"
    },
    "tags": []
   },
   "outputs": [
    {
     "data": {
      "text/html": [
       "<div>\n",
       "<style scoped>\n",
       "    .dataframe tbody tr th:only-of-type {\n",
       "        vertical-align: middle;\n",
       "    }\n",
       "\n",
       "    .dataframe tbody tr th {\n",
       "        vertical-align: top;\n",
       "    }\n",
       "\n",
       "    .dataframe thead th {\n",
       "        text-align: right;\n",
       "    }\n",
       "</style>\n",
       "<table border=\"1\" class=\"dataframe\">\n",
       "  <thead>\n",
       "    <tr style=\"text-align: right;\">\n",
       "      <th></th>\n",
       "      <th>ApplicantIncome</th>\n",
       "      <th>CoapplicantIncome</th>\n",
       "      <th>LoanAmount</th>\n",
       "      <th>Loan_Amount_Term</th>\n",
       "      <th>Credit_History</th>\n",
       "    </tr>\n",
       "  </thead>\n",
       "  <tbody>\n",
       "    <tr>\n",
       "      <th>ApplicantIncome</th>\n",
       "      <td>1.000000</td>\n",
       "      <td>-0.320056</td>\n",
       "      <td>0.515397</td>\n",
       "      <td>-0.040111</td>\n",
       "      <td>0.043241</td>\n",
       "    </tr>\n",
       "    <tr>\n",
       "      <th>CoapplicantIncome</th>\n",
       "      <td>-0.320056</td>\n",
       "      <td>1.000000</td>\n",
       "      <td>0.240719</td>\n",
       "      <td>-0.013747</td>\n",
       "      <td>-0.007458</td>\n",
       "    </tr>\n",
       "    <tr>\n",
       "      <th>LoanAmount</th>\n",
       "      <td>0.515397</td>\n",
       "      <td>0.240719</td>\n",
       "      <td>1.000000</td>\n",
       "      <td>0.041486</td>\n",
       "      <td>-0.002361</td>\n",
       "    </tr>\n",
       "    <tr>\n",
       "      <th>Loan_Amount_Term</th>\n",
       "      <td>-0.040111</td>\n",
       "      <td>-0.013747</td>\n",
       "      <td>0.041486</td>\n",
       "      <td>1.000000</td>\n",
       "      <td>0.015088</td>\n",
       "    </tr>\n",
       "    <tr>\n",
       "      <th>Credit_History</th>\n",
       "      <td>0.043241</td>\n",
       "      <td>-0.007458</td>\n",
       "      <td>-0.002361</td>\n",
       "      <td>0.015088</td>\n",
       "      <td>1.000000</td>\n",
       "    </tr>\n",
       "  </tbody>\n",
       "</table>\n",
       "</div>"
      ],
      "text/plain": [
       "                   ApplicantIncome  CoapplicantIncome  LoanAmount  \\\n",
       "ApplicantIncome           1.000000          -0.320056    0.515397   \n",
       "CoapplicantIncome        -0.320056           1.000000    0.240719   \n",
       "LoanAmount                0.515397           0.240719    1.000000   \n",
       "Loan_Amount_Term         -0.040111          -0.013747    0.041486   \n",
       "Credit_History            0.043241          -0.007458   -0.002361   \n",
       "\n",
       "                   Loan_Amount_Term  Credit_History  \n",
       "ApplicantIncome           -0.040111        0.043241  \n",
       "CoapplicantIncome         -0.013747       -0.007458  \n",
       "LoanAmount                 0.041486       -0.002361  \n",
       "Loan_Amount_Term           1.000000        0.015088  \n",
       "Credit_History             0.015088        1.000000  "
      ]
     },
     "execution_count": 23,
     "metadata": {},
     "output_type": "execute_result"
    }
   ],
   "source": [
    "data.corr(method = 'spearman')"
   ]
  },
  {
   "cell_type": "code",
   "execution_count": 24,
   "id": "0052b832",
   "metadata": {
    "execution": {
     "iopub.execute_input": "2022-12-28T02:43:11.833973Z",
     "iopub.status.busy": "2022-12-28T02:43:11.833519Z",
     "iopub.status.idle": "2022-12-28T02:43:12.279940Z",
     "shell.execute_reply": "2022-12-28T02:43:12.278681Z"
    },
    "papermill": {
     "duration": 0.489452,
     "end_time": "2022-12-28T02:43:12.282547",
     "exception": false,
     "start_time": "2022-12-28T02:43:11.793095",
     "status": "completed"
    },
    "tags": []
   },
   "outputs": [
    {
     "data": {
      "text/plain": [
       "<AxesSubplot:>"
      ]
     },
     "execution_count": 24,
     "metadata": {},
     "output_type": "execute_result"
    },
    {
     "data": {
      "image/png": "[encoded data removed]",
      "text/plain": [
       "<Figure size 1080x720 with 2 Axes>"
      ]
     },
     "metadata": {
      "needs_background": "light"
     },
     "output_type": "display_data"
    }
   ],
   "source": [
    "# Plot the Correlation matrix\n",
    "plt.figure(figsize=(15,10))\n",
    "sns.heatmap(data.corr(), annot=True, linewidths=.5, vmin = -1, vmax = 1, fmt = '.2g')"
   ]
  },
  {
   "cell_type": "code",
   "execution_count": 25,
   "id": "e605258a",
   "metadata": {
    "execution": {
     "iopub.execute_input": "2022-12-28T02:43:12.366261Z",
     "iopub.status.busy": "2022-12-28T02:43:12.365799Z",
     "iopub.status.idle": "2022-12-28T02:43:12.796334Z",
     "shell.execute_reply": "2022-12-28T02:43:12.795036Z"
    },
    "papermill": {
     "duration": 0.476815,
     "end_time": "2022-12-28T02:43:12.799098",
     "exception": false,
     "start_time": "2022-12-28T02:43:12.322283",
     "status": "completed"
    },
    "tags": []
   },
   "outputs": [
    {
     "data": {
      "text/plain": [
       "<AxesSubplot:>"
      ]
     },
     "execution_count": 25,
     "metadata": {},
     "output_type": "execute_result"
    },
    {
     "data": {
      "image/png": "[encoded data removed]",
      "text/plain": [
       "<Figure size 1080x720 with 2 Axes>"
      ]
     },
     "metadata": {
      "needs_background": "light"
     },
     "output_type": "display_data"
    }
   ],
   "source": [
    "plt.figure(figsize=(15,10))\n",
    "sns.heatmap(data.corr(method = 'spearman'), annot=True, linewidths=.5, vmin = -1, vmax = 1, fmt = '.2g')"
   ]
  },
  {
   "cell_type": "markdown",
   "id": "0f1fad77",
   "metadata": {
    "papermill": {
     "duration": 0.041632,
     "end_time": "2022-12-28T02:43:12.880604",
     "exception": false,
     "start_time": "2022-12-28T02:43:12.838972",
     "status": "completed"
    },
    "tags": []
   },
   "source": [
    "Very high correlation between 'ApplicantIncome' and 'LoanAmount' - therefore, one of them needs to be dropped to prevent independent variable multicollinearity.\n",
    "\n",
    "This is verified by VIF calculation shown below"
   ]
  },
  {
   "cell_type": "code",
   "execution_count": 26,
   "id": "2b7709a6",
   "metadata": {
    "execution": {
     "iopub.execute_input": "2022-12-28T02:43:12.967815Z",
     "iopub.status.busy": "2022-12-28T02:43:12.967373Z",
     "iopub.status.idle": "2022-12-28T02:43:12.978056Z",
     "shell.execute_reply": "2022-12-28T02:43:12.976796Z"
    },
    "papermill": {
     "duration": 0.057723,
     "end_time": "2022-12-28T02:43:12.981218",
     "exception": false,
     "start_time": "2022-12-28T02:43:12.923495",
     "status": "completed"
    },
    "tags": []
   },
   "outputs": [
    {
     "data": {
      "text/plain": [
       "Gender               13\n",
       "Married               3\n",
       "Dependents           15\n",
       "Education             0\n",
       "Self_Employed        32\n",
       "ApplicantIncome       0\n",
       "CoapplicantIncome     0\n",
       "LoanAmount           22\n",
       "Loan_Amount_Term     14\n",
       "Credit_History       50\n",
       "Property_Area         0\n",
       "Loan_Status           0\n",
       "dtype: int64"
      ]
     },
     "execution_count": 26,
     "metadata": {},
     "output_type": "execute_result"
    }
   ],
   "source": [
    "data.isnull().sum()"
   ]
  },
  {
   "cell_type": "markdown",
   "id": "84c7ae60",
   "metadata": {
    "papermill": {
     "duration": 0.045858,
     "end_time": "2022-12-28T02:43:13.078842",
     "exception": false,
     "start_time": "2022-12-28T02:43:13.032984",
     "status": "completed"
    },
    "tags": []
   },
   "source": [
    "# Data Preprocessing"
   ]
  },
  {
   "cell_type": "markdown",
   "id": "245e0649",
   "metadata": {
    "papermill": {
     "duration": 0.042751,
     "end_time": "2022-12-28T02:43:13.164438",
     "exception": false,
     "start_time": "2022-12-28T02:43:13.121687",
     "status": "completed"
    },
    "tags": []
   },
   "source": [
    "## Imputing null values"
   ]
  },
  {
   "cell_type": "code",
   "execution_count": 27,
   "id": "b795349e",
   "metadata": {
    "execution": {
     "iopub.execute_input": "2022-12-28T02:43:13.251405Z",
     "iopub.status.busy": "2022-12-28T02:43:13.250452Z",
     "iopub.status.idle": "2022-12-28T02:43:13.264457Z",
     "shell.execute_reply": "2022-12-28T02:43:13.263195Z"
    },
    "papermill": {
     "duration": 0.058459,
     "end_time": "2022-12-28T02:43:13.267408",
     "exception": false,
     "start_time": "2022-12-28T02:43:13.208949",
     "status": "completed"
    },
    "tags": []
   },
   "outputs": [],
   "source": [
    "# Imputing null for categorical variables with mode\n",
    "data['Dependents'] = data['Dependents'].fillna(data['Dependents'].mode()[0])\n",
    "data['Gender'] = data['Gender'].fillna(data['Gender'].mode()[0])\n",
    "data['Married'] = data['Married'].fillna(data['Married'].mode()[0])\n",
    "data['Education'] = data['Education'].fillna(data['Education'].mode()[0])\n",
    "data['Self_Employed'] = data['Self_Employed'].fillna(data['Self_Employed'].mode()[0])\n",
    "data['Credit_History'] = data['Credit_History'].fillna(data['Credit_History'].mode()[0])"
   ]
  },
  {
   "cell_type": "code",
   "execution_count": 28,
   "id": "2bd7d134",
   "metadata": {
    "execution": {
     "iopub.execute_input": "2022-12-28T02:43:13.366836Z",
     "iopub.status.busy": "2022-12-28T02:43:13.365989Z",
     "iopub.status.idle": "2022-12-28T02:43:13.374202Z",
     "shell.execute_reply": "2022-12-28T02:43:13.373233Z"
    },
    "papermill": {
     "duration": 0.066988,
     "end_time": "2022-12-28T02:43:13.376848",
     "exception": false,
     "start_time": "2022-12-28T02:43:13.309860",
     "status": "completed"
    },
    "tags": []
   },
   "outputs": [],
   "source": [
    "# Imputing null for numerical variables with median - mean was not chosen because of outliers in the data\n",
    "data['LoanAmount'].fillna(data['LoanAmount'].median(), inplace = True)\n",
    "data['Loan_Amount_Term'].fillna(data['Loan_Amount_Term'].median(), inplace = True)"
   ]
  },
  {
   "cell_type": "code",
   "execution_count": 29,
   "id": "61452448",
   "metadata": {
    "execution": {
     "iopub.execute_input": "2022-12-28T02:43:13.466707Z",
     "iopub.status.busy": "2022-12-28T02:43:13.466016Z",
     "iopub.status.idle": "2022-12-28T02:43:13.477907Z",
     "shell.execute_reply": "2022-12-28T02:43:13.476618Z"
    },
    "papermill": {
     "duration": 0.060994,
     "end_time": "2022-12-28T02:43:13.480936",
     "exception": false,
     "start_time": "2022-12-28T02:43:13.419942",
     "status": "completed"
    },
    "tags": []
   },
   "outputs": [
    {
     "data": {
      "text/plain": [
       "Gender               0\n",
       "Married              0\n",
       "Dependents           0\n",
       "Education            0\n",
       "Self_Employed        0\n",
       "ApplicantIncome      0\n",
       "CoapplicantIncome    0\n",
       "LoanAmount           0\n",
       "Loan_Amount_Term     0\n",
       "Credit_History       0\n",
       "Property_Area        0\n",
       "Loan_Status          0\n",
       "dtype: int64"
      ]
     },
     "execution_count": 29,
     "metadata": {},
     "output_type": "execute_result"
    }
   ],
   "source": [
    "data.isnull().sum()"
   ]
  },
  {
   "cell_type": "markdown",
   "id": "f85957f0",
   "metadata": {
    "papermill": {
     "duration": 0.043632,
     "end_time": "2022-12-28T02:43:13.569125",
     "exception": false,
     "start_time": "2022-12-28T02:43:13.525493",
     "status": "completed"
    },
    "tags": []
   },
   "source": [
    "## Detecting multicollinearity"
   ]
  },
  {
   "cell_type": "code",
   "execution_count": 30,
   "id": "32c32c7b",
   "metadata": {
    "execution": {
     "iopub.execute_input": "2022-12-28T02:43:13.654864Z",
     "iopub.status.busy": "2022-12-28T02:43:13.654368Z",
     "iopub.status.idle": "2022-12-28T02:43:13.803845Z",
     "shell.execute_reply": "2022-12-28T02:43:13.802415Z"
    },
    "papermill": {
     "duration": 0.198018,
     "end_time": "2022-12-28T02:43:13.809053",
     "exception": false,
     "start_time": "2022-12-28T02:43:13.611035",
     "status": "completed"
    },
    "tags": []
   },
   "outputs": [
    {
     "data": {
      "text/html": [
       "<div>\n",
       "<style scoped>\n",
       "    .dataframe tbody tr th:only-of-type {\n",
       "        vertical-align: middle;\n",
       "    }\n",
       "\n",
       "    .dataframe tbody tr th {\n",
       "        vertical-align: top;\n",
       "    }\n",
       "\n",
       "    .dataframe thead th {\n",
       "        text-align: right;\n",
       "    }\n",
       "</style>\n",
       "<table border=\"1\" class=\"dataframe\">\n",
       "  <thead>\n",
       "    <tr style=\"text-align: right;\">\n",
       "      <th></th>\n",
       "      <th>features</th>\n",
       "      <th>vif_Factor</th>\n",
       "    </tr>\n",
       "  </thead>\n",
       "  <tbody>\n",
       "    <tr>\n",
       "      <th>0</th>\n",
       "      <td>ApplicantIncome</td>\n",
       "      <td>2.845794</td>\n",
       "    </tr>\n",
       "    <tr>\n",
       "      <th>1</th>\n",
       "      <td>CoapplicantIncome</td>\n",
       "      <td>1.458045</td>\n",
       "    </tr>\n",
       "    <tr>\n",
       "      <th>2</th>\n",
       "      <td>LoanAmount</td>\n",
       "      <td>6.457683</td>\n",
       "    </tr>\n",
       "    <tr>\n",
       "      <th>3</th>\n",
       "      <td>Loan_Amount_Term</td>\n",
       "      <td>3.753503</td>\n",
       "    </tr>\n",
       "  </tbody>\n",
       "</table>\n",
       "</div>"
      ],
      "text/plain": [
       "            features  vif_Factor\n",
       "0    ApplicantIncome    2.845794\n",
       "1  CoapplicantIncome    1.458045\n",
       "2         LoanAmount    6.457683\n",
       "3   Loan_Amount_Term    3.753503"
      ]
     },
     "execution_count": 30,
     "metadata": {},
     "output_type": "execute_result"
    }
   ],
   "source": [
    "# Calculating VIF for all numerical variables\n",
    "from statsmodels.stats.outliers_influence import variance_inflation_factor\n",
    "\n",
    "x = data[['ApplicantIncome', 'CoapplicantIncome', 'LoanAmount', 'Loan_Amount_Term']]\n",
    "\n",
    "vif = pd.DataFrame()\n",
    "vif[\"features\"] = x.columns\n",
    "vif[\"vif_Factor\"] = [variance_inflation_factor(x.values, i) for i in range(x.shape[1])]\n",
    "vif"
   ]
  },
  {
   "cell_type": "code",
   "execution_count": 31,
   "id": "dd331e67",
   "metadata": {
    "execution": {
     "iopub.execute_input": "2022-12-28T02:43:13.930782Z",
     "iopub.status.busy": "2022-12-28T02:43:13.930087Z",
     "iopub.status.idle": "2022-12-28T02:43:13.951266Z",
     "shell.execute_reply": "2022-12-28T02:43:13.949847Z"
    },
    "papermill": {
     "duration": 0.07645,
     "end_time": "2022-12-28T02:43:13.954060",
     "exception": false,
     "start_time": "2022-12-28T02:43:13.877610",
     "status": "completed"
    },
    "tags": []
   },
   "outputs": [
    {
     "data": {
      "text/html": [
       "<div>\n",
       "<style scoped>\n",
       "    .dataframe tbody tr th:only-of-type {\n",
       "        vertical-align: middle;\n",
       "    }\n",
       "\n",
       "    .dataframe tbody tr th {\n",
       "        vertical-align: top;\n",
       "    }\n",
       "\n",
       "    .dataframe thead th {\n",
       "        text-align: right;\n",
       "    }\n",
       "</style>\n",
       "<table border=\"1\" class=\"dataframe\">\n",
       "  <thead>\n",
       "    <tr style=\"text-align: right;\">\n",
       "      <th></th>\n",
       "      <th>features</th>\n",
       "      <th>vif_Factor</th>\n",
       "    </tr>\n",
       "  </thead>\n",
       "  <tbody>\n",
       "    <tr>\n",
       "      <th>0</th>\n",
       "      <td>ApplicantIncome</td>\n",
       "      <td>1.724216</td>\n",
       "    </tr>\n",
       "    <tr>\n",
       "      <th>1</th>\n",
       "      <td>CoapplicantIncome</td>\n",
       "      <td>1.287776</td>\n",
       "    </tr>\n",
       "    <tr>\n",
       "      <th>2</th>\n",
       "      <td>Loan_Amount_Term</td>\n",
       "      <td>2.072653</td>\n",
       "    </tr>\n",
       "  </tbody>\n",
       "</table>\n",
       "</div>"
      ],
      "text/plain": [
       "            features  vif_Factor\n",
       "0    ApplicantIncome    1.724216\n",
       "1  CoapplicantIncome    1.287776\n",
       "2   Loan_Amount_Term    2.072653"
      ]
     },
     "execution_count": 31,
     "metadata": {},
     "output_type": "execute_result"
    }
   ],
   "source": [
    "# Calculating VIF for all numerical variables except LoanAmount\n",
    "from statsmodels.stats.outliers_influence import variance_inflation_factor\n",
    "\n",
    "x = data[['ApplicantIncome', 'CoapplicantIncome', 'Loan_Amount_Term']]\n",
    "\n",
    "vif = pd.DataFrame()\n",
    "vif[\"features\"] = x.columns\n",
    "vif[\"vif_Factor\"] = [variance_inflation_factor(x.values, i) for i in range(x.shape[1])]\n",
    "vif"
   ]
  },
  {
   "cell_type": "markdown",
   "id": "2060badc",
   "metadata": {
    "papermill": {
     "duration": 0.045645,
     "end_time": "2022-12-28T02:43:14.043760",
     "exception": false,
     "start_time": "2022-12-28T02:43:13.998115",
     "status": "completed"
    },
    "tags": []
   },
   "source": [
    "Since VIF fector has significantly reduced, it is best to drop LoanAmount from the set of independent variables"
   ]
  },
  {
   "cell_type": "code",
   "execution_count": 32,
   "id": "31bb6362",
   "metadata": {
    "execution": {
     "iopub.execute_input": "2022-12-28T02:43:14.134816Z",
     "iopub.status.busy": "2022-12-28T02:43:14.134255Z",
     "iopub.status.idle": "2022-12-28T02:43:14.142469Z",
     "shell.execute_reply": "2022-12-28T02:43:14.141242Z"
    },
    "papermill": {
     "duration": 0.057339,
     "end_time": "2022-12-28T02:43:14.144840",
     "exception": false,
     "start_time": "2022-12-28T02:43:14.087501",
     "status": "completed"
    },
    "tags": []
   },
   "outputs": [],
   "source": [
    "# Drop LoanAmount from data set\n",
    "data.drop(columns = ['LoanAmount'], inplace = True)"
   ]
  },
  {
   "cell_type": "markdown",
   "id": "e97a7821",
   "metadata": {
    "papermill": {
     "duration": 0.044617,
     "end_time": "2022-12-28T02:43:14.231059",
     "exception": false,
     "start_time": "2022-12-28T02:43:14.186442",
     "status": "completed"
    },
    "tags": []
   },
   "source": [
    "### Balancing Dataset"
   ]
  },
  {
   "cell_type": "code",
   "execution_count": 33,
   "id": "4bcbb7e3",
   "metadata": {
    "execution": {
     "iopub.execute_input": "2022-12-28T02:43:14.320852Z",
     "iopub.status.busy": "2022-12-28T02:43:14.320395Z",
     "iopub.status.idle": "2022-12-28T02:43:28.415527Z",
     "shell.execute_reply": "2022-12-28T02:43:28.414105Z"
    },
    "id": "02b10373",
    "outputId": "85d588a9-f665-4573-83b5-d524c0bc9b76",
    "papermill": {
     "duration": 14.142254,
     "end_time": "2022-12-28T02:43:28.418766",
     "exception": false,
     "start_time": "2022-12-28T02:43:14.276512",
     "status": "completed"
    },
    "tags": []
   },
   "outputs": [
    {
     "name": "stdout",
     "output_type": "stream",
     "text": [
      "Collecting imblearn\r\n",
      "  Downloading imblearn-0.0-py2.py3-none-any.whl (1.9 kB)\r\n",
      "Requirement already satisfied: imbalanced-learn in /opt/conda/lib/python3.7/site-packages (from imblearn) (0.9.0)\r\n",
      "Requirement already satisfied: scipy>=1.1.0 in /opt/conda/lib/python3.7/site-packages (from imbalanced-learn->imblearn) (1.7.3)\r\n",
      "Requirement already satisfied: scikit-learn>=1.0.1 in /opt/conda/lib/python3.7/site-packages (from imbalanced-learn->imblearn) (1.0.2)\r\n",
      "Requirement already satisfied: numpy>=1.14.6 in /opt/conda/lib/python3.7/site-packages (from imbalanced-learn->imblearn) (1.21.6)\r\n",
      "Requirement already satisfied: threadpoolctl>=2.0.0 in /opt/conda/lib/python3.7/site-packages (from imbalanced-learn->imblearn) (3.1.0)\r\n",
      "Requirement already satisfied: joblib>=0.11 in /opt/conda/lib/python3.7/site-packages (from imbalanced-learn->imblearn) (1.0.1)\r\n",
      "Installing collected packages: imblearn\r\n",
      "Successfully installed imblearn-0.0\r\n",
      "\u001b[33mWARNING: Running pip as the 'root' user can result in broken permissions and conflicting behaviour with the system package manager. It is recommended to use a virtual environment instead: https://pip.pypa.io/warnings/venv\u001b[0m\u001b[33m\r\n",
      "\u001b[0mNote: you may need to restart the kernel to use updated packages.\n"
     ]
    }
   ],
   "source": [
    "pip install imblearn"
   ]
  },
  {
   "cell_type": "code",
   "execution_count": 34,
   "id": "bdc3ccf4",
   "metadata": {
    "execution": {
     "iopub.execute_input": "2022-12-28T02:43:28.502912Z",
     "iopub.status.busy": "2022-12-28T02:43:28.501951Z",
     "iopub.status.idle": "2022-12-28T02:43:28.656608Z",
     "shell.execute_reply": "2022-12-28T02:43:28.655356Z"
    },
    "id": "7e6021db",
    "papermill": {
     "duration": 0.199609,
     "end_time": "2022-12-28T02:43:28.659651",
     "exception": false,
     "start_time": "2022-12-28T02:43:28.460042",
     "status": "completed"
    },
    "tags": []
   },
   "outputs": [],
   "source": [
    "import imblearn"
   ]
  },
  {
   "cell_type": "code",
   "execution_count": 35,
   "id": "47527672",
   "metadata": {
    "execution": {
     "iopub.execute_input": "2022-12-28T02:43:28.817328Z",
     "iopub.status.busy": "2022-12-28T02:43:28.816899Z",
     "iopub.status.idle": "2022-12-28T02:43:28.823792Z",
     "shell.execute_reply": "2022-12-28T02:43:28.822141Z"
    },
    "id": "48ab519a",
    "papermill": {
     "duration": 0.126322,
     "end_time": "2022-12-28T02:43:28.826791",
     "exception": false,
     "start_time": "2022-12-28T02:43:28.700469",
     "status": "completed"
    },
    "tags": []
   },
   "outputs": [],
   "source": [
    "from imblearn.over_sampling import RandomOverSampler"
   ]
  },
  {
   "cell_type": "code",
   "execution_count": 36,
   "id": "cbb446c2",
   "metadata": {
    "execution": {
     "iopub.execute_input": "2022-12-28T02:43:28.911198Z",
     "iopub.status.busy": "2022-12-28T02:43:28.910759Z",
     "iopub.status.idle": "2022-12-28T02:43:28.915369Z",
     "shell.execute_reply": "2022-12-28T02:43:28.914358Z"
    },
    "id": "1b4b8fd8",
    "papermill": {
     "duration": 0.049172,
     "end_time": "2022-12-28T02:43:28.917595",
     "exception": false,
     "start_time": "2022-12-28T02:43:28.868423",
     "status": "completed"
    },
    "tags": []
   },
   "outputs": [],
   "source": [
    "ros = RandomOverSampler(random_state=0)"
   ]
  },
  {
   "cell_type": "code",
   "execution_count": 37,
   "id": "cf2ea3f4",
   "metadata": {
    "execution": {
     "iopub.execute_input": "2022-12-28T02:43:29.002078Z",
     "iopub.status.busy": "2022-12-28T02:43:29.001312Z",
     "iopub.status.idle": "2022-12-28T02:43:29.008789Z",
     "shell.execute_reply": "2022-12-28T02:43:29.007846Z"
    },
    "papermill": {
     "duration": 0.052504,
     "end_time": "2022-12-28T02:43:29.011330",
     "exception": false,
     "start_time": "2022-12-28T02:43:28.958826",
     "status": "completed"
    },
    "tags": []
   },
   "outputs": [],
   "source": [
    "x = data.drop(columns = ['Loan_Status'])\n",
    "y = data['Loan_Status']"
   ]
  },
  {
   "cell_type": "code",
   "execution_count": 38,
   "id": "a9406319",
   "metadata": {
    "execution": {
     "iopub.execute_input": "2022-12-28T02:43:29.096203Z",
     "iopub.status.busy": "2022-12-28T02:43:29.094770Z",
     "iopub.status.idle": "2022-12-28T02:43:29.110502Z",
     "shell.execute_reply": "2022-12-28T02:43:29.109136Z"
    },
    "id": "60d76c3b",
    "papermill": {
     "duration": 0.06064,
     "end_time": "2022-12-28T02:43:29.113182",
     "exception": false,
     "start_time": "2022-12-28T02:43:29.052542",
     "status": "completed"
    },
    "tags": []
   },
   "outputs": [],
   "source": [
    "x, y = ros.fit_resample(x, y)"
   ]
  },
  {
   "cell_type": "code",
   "execution_count": 39,
   "id": "35563677",
   "metadata": {
    "execution": {
     "iopub.execute_input": "2022-12-28T02:43:29.196493Z",
     "iopub.status.busy": "2022-12-28T02:43:29.196081Z",
     "iopub.status.idle": "2022-12-28T02:43:29.399893Z",
     "shell.execute_reply": "2022-12-28T02:43:29.398625Z"
    },
    "id": "39d01bc1",
    "outputId": "b2d5bbc9-bd59-47ad-d01a-cecc4d5dd377",
    "papermill": {
     "duration": 0.248553,
     "end_time": "2022-12-28T02:43:29.402520",
     "exception": false,
     "start_time": "2022-12-28T02:43:29.153967",
     "status": "completed"
    },
    "tags": []
   },
   "outputs": [
    {
     "data": {
      "image/png": "[encoded data removed]",
      "text/plain": [
       "<Figure size 432x288 with 1 Axes>"
      ]
     },
     "metadata": {
      "needs_background": "light"
     },
     "output_type": "display_data"
    }
   ],
   "source": [
    "ax = sns.countplot(x=y)"
   ]
  },
  {
   "cell_type": "code",
   "execution_count": 40,
   "id": "864493ed",
   "metadata": {
    "execution": {
     "iopub.execute_input": "2022-12-28T02:43:29.488236Z",
     "iopub.status.busy": "2022-12-28T02:43:29.487793Z",
     "iopub.status.idle": "2022-12-28T02:43:29.508947Z",
     "shell.execute_reply": "2022-12-28T02:43:29.507763Z"
    },
    "papermill": {
     "duration": 0.067816,
     "end_time": "2022-12-28T02:43:29.511188",
     "exception": false,
     "start_time": "2022-12-28T02:43:29.443372",
     "status": "completed"
    },
    "tags": []
   },
   "outputs": [
    {
     "data": {
      "text/html": [
       "<div>\n",
       "<style scoped>\n",
       "    .dataframe tbody tr th:only-of-type {\n",
       "        vertical-align: middle;\n",
       "    }\n",
       "\n",
       "    .dataframe tbody tr th {\n",
       "        vertical-align: top;\n",
       "    }\n",
       "\n",
       "    .dataframe thead th {\n",
       "        text-align: right;\n",
       "    }\n",
       "</style>\n",
       "<table border=\"1\" class=\"dataframe\">\n",
       "  <thead>\n",
       "    <tr style=\"text-align: right;\">\n",
       "      <th></th>\n",
       "      <th>Gender</th>\n",
       "      <th>Married</th>\n",
       "      <th>Dependents</th>\n",
       "      <th>Education</th>\n",
       "      <th>Self_Employed</th>\n",
       "      <th>ApplicantIncome</th>\n",
       "      <th>CoapplicantIncome</th>\n",
       "      <th>Loan_Amount_Term</th>\n",
       "      <th>Credit_History</th>\n",
       "      <th>Property_Area</th>\n",
       "      <th>Loan_Status</th>\n",
       "    </tr>\n",
       "  </thead>\n",
       "  <tbody>\n",
       "    <tr>\n",
       "      <th>0</th>\n",
       "      <td>Male</td>\n",
       "      <td>No</td>\n",
       "      <td>0</td>\n",
       "      <td>Graduate</td>\n",
       "      <td>No</td>\n",
       "      <td>5849</td>\n",
       "      <td>0.0</td>\n",
       "      <td>360.0</td>\n",
       "      <td>1.0</td>\n",
       "      <td>Urban</td>\n",
       "      <td>Y</td>\n",
       "    </tr>\n",
       "    <tr>\n",
       "      <th>1</th>\n",
       "      <td>Male</td>\n",
       "      <td>Yes</td>\n",
       "      <td>1</td>\n",
       "      <td>Graduate</td>\n",
       "      <td>No</td>\n",
       "      <td>4583</td>\n",
       "      <td>1508.0</td>\n",
       "      <td>360.0</td>\n",
       "      <td>1.0</td>\n",
       "      <td>Rural</td>\n",
       "      <td>N</td>\n",
       "    </tr>\n",
       "    <tr>\n",
       "      <th>2</th>\n",
       "      <td>Male</td>\n",
       "      <td>Yes</td>\n",
       "      <td>0</td>\n",
       "      <td>Graduate</td>\n",
       "      <td>Yes</td>\n",
       "      <td>3000</td>\n",
       "      <td>0.0</td>\n",
       "      <td>360.0</td>\n",
       "      <td>1.0</td>\n",
       "      <td>Urban</td>\n",
       "      <td>Y</td>\n",
       "    </tr>\n",
       "    <tr>\n",
       "      <th>3</th>\n",
       "      <td>Male</td>\n",
       "      <td>Yes</td>\n",
       "      <td>0</td>\n",
       "      <td>Not Graduate</td>\n",
       "      <td>No</td>\n",
       "      <td>2583</td>\n",
       "      <td>2358.0</td>\n",
       "      <td>360.0</td>\n",
       "      <td>1.0</td>\n",
       "      <td>Urban</td>\n",
       "      <td>Y</td>\n",
       "    </tr>\n",
       "    <tr>\n",
       "      <th>4</th>\n",
       "      <td>Male</td>\n",
       "      <td>No</td>\n",
       "      <td>0</td>\n",
       "      <td>Graduate</td>\n",
       "      <td>No</td>\n",
       "      <td>6000</td>\n",
       "      <td>0.0</td>\n",
       "      <td>360.0</td>\n",
       "      <td>1.0</td>\n",
       "      <td>Urban</td>\n",
       "      <td>Y</td>\n",
       "    </tr>\n",
       "  </tbody>\n",
       "</table>\n",
       "</div>"
      ],
      "text/plain": [
       "  Gender Married Dependents     Education Self_Employed  ApplicantIncome  \\\n",
       "0   Male      No          0      Graduate            No             5849   \n",
       "1   Male     Yes          1      Graduate            No             4583   \n",
       "2   Male     Yes          0      Graduate           Yes             3000   \n",
       "3   Male     Yes          0  Not Graduate            No             2583   \n",
       "4   Male      No          0      Graduate            No             6000   \n",
       "\n",
       "   CoapplicantIncome  Loan_Amount_Term  Credit_History Property_Area  \\\n",
       "0                0.0             360.0             1.0         Urban   \n",
       "1             1508.0             360.0             1.0         Rural   \n",
       "2                0.0             360.0             1.0         Urban   \n",
       "3             2358.0             360.0             1.0         Urban   \n",
       "4                0.0             360.0             1.0         Urban   \n",
       "\n",
       "  Loan_Status  \n",
       "0           Y  \n",
       "1           N  \n",
       "2           Y  \n",
       "3           Y  \n",
       "4           Y  "
      ]
     },
     "execution_count": 40,
     "metadata": {},
     "output_type": "execute_result"
    }
   ],
   "source": [
    "df1=pd.concat([x,y],axis=1)\n",
    "df1.head()"
   ]
  },
  {
   "cell_type": "markdown",
   "id": "44bdfa29",
   "metadata": {
    "papermill": {
     "duration": 0.041163,
     "end_time": "2022-12-28T02:43:29.593553",
     "exception": false,
     "start_time": "2022-12-28T02:43:29.552390",
     "status": "completed"
    },
    "tags": []
   },
   "source": [
    "## Outlier Treatment"
   ]
  },
  {
   "cell_type": "markdown",
   "id": "d5c96469",
   "metadata": {
    "papermill": {
     "duration": 0.040444,
     "end_time": "2022-12-28T02:43:29.675147",
     "exception": false,
     "start_time": "2022-12-28T02:43:29.634703",
     "status": "completed"
    },
    "tags": []
   },
   "source": [
    "There are outliers in ApplicantIncome, CoapplicantIncome and Loan_Amount_Term. However, in real life, we would expect these variables to display some outliers. Therefore, it is important not to treat them"
   ]
  },
  {
   "cell_type": "markdown",
   "id": "3cbf4017",
   "metadata": {
    "papermill": {
     "duration": 0.041808,
     "end_time": "2022-12-28T02:43:29.758897",
     "exception": false,
     "start_time": "2022-12-28T02:43:29.717089",
     "status": "completed"
    },
    "tags": []
   },
   "source": [
    "## Data Prep for Moedling"
   ]
  },
  {
   "cell_type": "code",
   "execution_count": 41,
   "id": "d8a6c77c",
   "metadata": {
    "execution": {
     "iopub.execute_input": "2022-12-28T02:43:29.845019Z",
     "iopub.status.busy": "2022-12-28T02:43:29.844556Z",
     "iopub.status.idle": "2022-12-28T02:43:29.877636Z",
     "shell.execute_reply": "2022-12-28T02:43:29.876517Z"
    },
    "papermill": {
     "duration": 0.0791,
     "end_time": "2022-12-28T02:43:29.879874",
     "exception": false,
     "start_time": "2022-12-28T02:43:29.800774",
     "status": "completed"
    },
    "tags": []
   },
   "outputs": [
    {
     "data": {
      "text/html": [
       "<div>\n",
       "<style scoped>\n",
       "    .dataframe tbody tr th:only-of-type {\n",
       "        vertical-align: middle;\n",
       "    }\n",
       "\n",
       "    .dataframe tbody tr th {\n",
       "        vertical-align: top;\n",
       "    }\n",
       "\n",
       "    .dataframe thead th {\n",
       "        text-align: right;\n",
       "    }\n",
       "</style>\n",
       "<table border=\"1\" class=\"dataframe\">\n",
       "  <thead>\n",
       "    <tr style=\"text-align: right;\">\n",
       "      <th></th>\n",
       "      <th>Credit_History</th>\n",
       "      <th>Dependents_0</th>\n",
       "      <th>Dependents_1</th>\n",
       "      <th>Dependents_2</th>\n",
       "      <th>Dependents_3+</th>\n",
       "      <th>Gender_Female</th>\n",
       "      <th>Gender_Male</th>\n",
       "      <th>Married_No</th>\n",
       "      <th>Married_Yes</th>\n",
       "      <th>Education_Graduate</th>\n",
       "      <th>Education_Not Graduate</th>\n",
       "      <th>Self_Employed_No</th>\n",
       "      <th>Self_Employed_Yes</th>\n",
       "      <th>Property_Area_Rural</th>\n",
       "      <th>Property_Area_Semiurban</th>\n",
       "      <th>Property_Area_Urban</th>\n",
       "    </tr>\n",
       "  </thead>\n",
       "  <tbody>\n",
       "    <tr>\n",
       "      <th>0</th>\n",
       "      <td>1.0</td>\n",
       "      <td>1</td>\n",
       "      <td>0</td>\n",
       "      <td>0</td>\n",
       "      <td>0</td>\n",
       "      <td>0</td>\n",
       "      <td>1</td>\n",
       "      <td>1</td>\n",
       "      <td>0</td>\n",
       "      <td>1</td>\n",
       "      <td>0</td>\n",
       "      <td>1</td>\n",
       "      <td>0</td>\n",
       "      <td>0</td>\n",
       "      <td>0</td>\n",
       "      <td>1</td>\n",
       "    </tr>\n",
       "    <tr>\n",
       "      <th>1</th>\n",
       "      <td>1.0</td>\n",
       "      <td>0</td>\n",
       "      <td>1</td>\n",
       "      <td>0</td>\n",
       "      <td>0</td>\n",
       "      <td>0</td>\n",
       "      <td>1</td>\n",
       "      <td>0</td>\n",
       "      <td>1</td>\n",
       "      <td>1</td>\n",
       "      <td>0</td>\n",
       "      <td>1</td>\n",
       "      <td>0</td>\n",
       "      <td>1</td>\n",
       "      <td>0</td>\n",
       "      <td>0</td>\n",
       "    </tr>\n",
       "    <tr>\n",
       "      <th>2</th>\n",
       "      <td>1.0</td>\n",
       "      <td>1</td>\n",
       "      <td>0</td>\n",
       "      <td>0</td>\n",
       "      <td>0</td>\n",
       "      <td>0</td>\n",
       "      <td>1</td>\n",
       "      <td>0</td>\n",
       "      <td>1</td>\n",
       "      <td>1</td>\n",
       "      <td>0</td>\n",
       "      <td>0</td>\n",
       "      <td>1</td>\n",
       "      <td>0</td>\n",
       "      <td>0</td>\n",
       "      <td>1</td>\n",
       "    </tr>\n",
       "    <tr>\n",
       "      <th>3</th>\n",
       "      <td>1.0</td>\n",
       "      <td>1</td>\n",
       "      <td>0</td>\n",
       "      <td>0</td>\n",
       "      <td>0</td>\n",
       "      <td>0</td>\n",
       "      <td>1</td>\n",
       "      <td>0</td>\n",
       "      <td>1</td>\n",
       "      <td>0</td>\n",
       "      <td>1</td>\n",
       "      <td>1</td>\n",
       "      <td>0</td>\n",
       "      <td>0</td>\n",
       "      <td>0</td>\n",
       "      <td>1</td>\n",
       "    </tr>\n",
       "    <tr>\n",
       "      <th>4</th>\n",
       "      <td>1.0</td>\n",
       "      <td>1</td>\n",
       "      <td>0</td>\n",
       "      <td>0</td>\n",
       "      <td>0</td>\n",
       "      <td>0</td>\n",
       "      <td>1</td>\n",
       "      <td>1</td>\n",
       "      <td>0</td>\n",
       "      <td>1</td>\n",
       "      <td>0</td>\n",
       "      <td>1</td>\n",
       "      <td>0</td>\n",
       "      <td>0</td>\n",
       "      <td>0</td>\n",
       "      <td>1</td>\n",
       "    </tr>\n",
       "    <tr>\n",
       "      <th>...</th>\n",
       "      <td>...</td>\n",
       "      <td>...</td>\n",
       "      <td>...</td>\n",
       "      <td>...</td>\n",
       "      <td>...</td>\n",
       "      <td>...</td>\n",
       "      <td>...</td>\n",
       "      <td>...</td>\n",
       "      <td>...</td>\n",
       "      <td>...</td>\n",
       "      <td>...</td>\n",
       "      <td>...</td>\n",
       "      <td>...</td>\n",
       "      <td>...</td>\n",
       "      <td>...</td>\n",
       "      <td>...</td>\n",
       "    </tr>\n",
       "    <tr>\n",
       "      <th>839</th>\n",
       "      <td>0.0</td>\n",
       "      <td>0</td>\n",
       "      <td>0</td>\n",
       "      <td>0</td>\n",
       "      <td>1</td>\n",
       "      <td>0</td>\n",
       "      <td>1</td>\n",
       "      <td>0</td>\n",
       "      <td>1</td>\n",
       "      <td>1</td>\n",
       "      <td>0</td>\n",
       "      <td>1</td>\n",
       "      <td>0</td>\n",
       "      <td>0</td>\n",
       "      <td>1</td>\n",
       "      <td>0</td>\n",
       "    </tr>\n",
       "    <tr>\n",
       "      <th>840</th>\n",
       "      <td>1.0</td>\n",
       "      <td>0</td>\n",
       "      <td>1</td>\n",
       "      <td>0</td>\n",
       "      <td>0</td>\n",
       "      <td>0</td>\n",
       "      <td>1</td>\n",
       "      <td>0</td>\n",
       "      <td>1</td>\n",
       "      <td>1</td>\n",
       "      <td>0</td>\n",
       "      <td>1</td>\n",
       "      <td>0</td>\n",
       "      <td>0</td>\n",
       "      <td>0</td>\n",
       "      <td>1</td>\n",
       "    </tr>\n",
       "    <tr>\n",
       "      <th>841</th>\n",
       "      <td>1.0</td>\n",
       "      <td>0</td>\n",
       "      <td>0</td>\n",
       "      <td>0</td>\n",
       "      <td>1</td>\n",
       "      <td>0</td>\n",
       "      <td>1</td>\n",
       "      <td>0</td>\n",
       "      <td>1</td>\n",
       "      <td>0</td>\n",
       "      <td>1</td>\n",
       "      <td>1</td>\n",
       "      <td>0</td>\n",
       "      <td>1</td>\n",
       "      <td>0</td>\n",
       "      <td>0</td>\n",
       "    </tr>\n",
       "    <tr>\n",
       "      <th>842</th>\n",
       "      <td>0.0</td>\n",
       "      <td>0</td>\n",
       "      <td>0</td>\n",
       "      <td>1</td>\n",
       "      <td>0</td>\n",
       "      <td>0</td>\n",
       "      <td>1</td>\n",
       "      <td>0</td>\n",
       "      <td>1</td>\n",
       "      <td>1</td>\n",
       "      <td>0</td>\n",
       "      <td>1</td>\n",
       "      <td>0</td>\n",
       "      <td>1</td>\n",
       "      <td>0</td>\n",
       "      <td>0</td>\n",
       "    </tr>\n",
       "    <tr>\n",
       "      <th>843</th>\n",
       "      <td>1.0</td>\n",
       "      <td>0</td>\n",
       "      <td>1</td>\n",
       "      <td>0</td>\n",
       "      <td>0</td>\n",
       "      <td>0</td>\n",
       "      <td>1</td>\n",
       "      <td>0</td>\n",
       "      <td>1</td>\n",
       "      <td>1</td>\n",
       "      <td>0</td>\n",
       "      <td>1</td>\n",
       "      <td>0</td>\n",
       "      <td>1</td>\n",
       "      <td>0</td>\n",
       "      <td>0</td>\n",
       "    </tr>\n",
       "  </tbody>\n",
       "</table>\n",
       "<p>844 rows × 16 columns</p>\n",
       "</div>"
      ],
      "text/plain": [
       "     Credit_History  Dependents_0  Dependents_1  Dependents_2  Dependents_3+  \\\n",
       "0               1.0             1             0             0              0   \n",
       "1               1.0             0             1             0              0   \n",
       "2               1.0             1             0             0              0   \n",
       "3               1.0             1             0             0              0   \n",
       "4               1.0             1             0             0              0   \n",
       "..              ...           ...           ...           ...            ...   \n",
       "839             0.0             0             0             0              1   \n",
       "840             1.0             0             1             0              0   \n",
       "841             1.0             0             0             0              1   \n",
       "842             0.0             0             0             1              0   \n",
       "843             1.0             0             1             0              0   \n",
       "\n",
       "     Gender_Female  Gender_Male  Married_No  Married_Yes  Education_Graduate  \\\n",
       "0                0            1           1            0                   1   \n",
       "1                0            1           0            1                   1   \n",
       "2                0            1           0            1                   1   \n",
       "3                0            1           0            1                   0   \n",
       "4                0            1           1            0                   1   \n",
       "..             ...          ...         ...          ...                 ...   \n",
       "839              0            1           0            1                   1   \n",
       "840              0            1           0            1                   1   \n",
       "841              0            1           0            1                   0   \n",
       "842              0            1           0            1                   1   \n",
       "843              0            1           0            1                   1   \n",
       "\n",
       "     Education_Not Graduate  Self_Employed_No  Self_Employed_Yes  \\\n",
       "0                         0                 1                  0   \n",
       "1                         0                 1                  0   \n",
       "2                         0                 0                  1   \n",
       "3                         1                 1                  0   \n",
       "4                         0                 1                  0   \n",
       "..                      ...               ...                ...   \n",
       "839                       0                 1                  0   \n",
       "840                       0                 1                  0   \n",
       "841                       1                 1                  0   \n",
       "842                       0                 1                  0   \n",
       "843                       0                 1                  0   \n",
       "\n",
       "     Property_Area_Rural  Property_Area_Semiurban  Property_Area_Urban  \n",
       "0                      0                        0                    1  \n",
       "1                      1                        0                    0  \n",
       "2                      0                        0                    1  \n",
       "3                      0                        0                    1  \n",
       "4                      0                        0                    1  \n",
       "..                   ...                      ...                  ...  \n",
       "839                    0                        1                    0  \n",
       "840                    0                        0                    1  \n",
       "841                    1                        0                    0  \n",
       "842                    1                        0                    0  \n",
       "843                    1                        0                    0  \n",
       "\n",
       "[844 rows x 16 columns]"
      ]
     },
     "execution_count": 41,
     "metadata": {},
     "output_type": "execute_result"
    }
   ],
   "source": [
    "# OneHotEncoding of object dtype columns\n",
    "cat_cols = ['Dependents','Gender','Married','Education','Self_Employed','Credit_History','Property_Area']\n",
    "dummies = pd.get_dummies(df1[cat_cols])\n",
    "dummies"
   ]
  },
  {
   "cell_type": "code",
   "execution_count": 42,
   "id": "82f8b4b5",
   "metadata": {
    "execution": {
     "iopub.execute_input": "2022-12-28T02:43:29.965549Z",
     "iopub.status.busy": "2022-12-28T02:43:29.965125Z",
     "iopub.status.idle": "2022-12-28T02:43:29.971029Z",
     "shell.execute_reply": "2022-12-28T02:43:29.970200Z"
    },
    "papermill": {
     "duration": 0.051536,
     "end_time": "2022-12-28T02:43:29.973189",
     "exception": false,
     "start_time": "2022-12-28T02:43:29.921653",
     "status": "completed"
    },
    "tags": []
   },
   "outputs": [],
   "source": [
    "#Concat dummmies into data frame\n",
    "df1 = pd.concat([df1, dummies], axis = 1)"
   ]
  },
  {
   "cell_type": "code",
   "execution_count": 43,
   "id": "64189f01",
   "metadata": {
    "execution": {
     "iopub.execute_input": "2022-12-28T02:43:30.058541Z",
     "iopub.status.busy": "2022-12-28T02:43:30.058161Z",
     "iopub.status.idle": "2022-12-28T02:43:30.064950Z",
     "shell.execute_reply": "2022-12-28T02:43:30.063756Z"
    },
    "papermill": {
     "duration": 0.052424,
     "end_time": "2022-12-28T02:43:30.067348",
     "exception": false,
     "start_time": "2022-12-28T02:43:30.014924",
     "status": "completed"
    },
    "tags": []
   },
   "outputs": [
    {
     "data": {
      "text/plain": [
       "(844, 27)"
      ]
     },
     "execution_count": 43,
     "metadata": {},
     "output_type": "execute_result"
    }
   ],
   "source": [
    "df1.shape"
   ]
  },
  {
   "cell_type": "code",
   "execution_count": 44,
   "id": "e91dd93d",
   "metadata": {
    "execution": {
     "iopub.execute_input": "2022-12-28T02:43:30.152595Z",
     "iopub.status.busy": "2022-12-28T02:43:30.152193Z",
     "iopub.status.idle": "2022-12-28T02:43:30.160712Z",
     "shell.execute_reply": "2022-12-28T02:43:30.159754Z"
    },
    "papermill": {
     "duration": 0.054311,
     "end_time": "2022-12-28T02:43:30.163131",
     "exception": false,
     "start_time": "2022-12-28T02:43:30.108820",
     "status": "completed"
    },
    "tags": []
   },
   "outputs": [],
   "source": [
    "# Drop original categorical columns from data frame\n",
    "df1 = df1.drop(cat_cols, axis = 1)"
   ]
  },
  {
   "cell_type": "code",
   "execution_count": 45,
   "id": "bc50d61b",
   "metadata": {
    "execution": {
     "iopub.execute_input": "2022-12-28T02:43:30.248466Z",
     "iopub.status.busy": "2022-12-28T02:43:30.247601Z",
     "iopub.status.idle": "2022-12-28T02:43:30.254981Z",
     "shell.execute_reply": "2022-12-28T02:43:30.253776Z"
    },
    "papermill": {
     "duration": 0.052595,
     "end_time": "2022-12-28T02:43:30.257381",
     "exception": false,
     "start_time": "2022-12-28T02:43:30.204786",
     "status": "completed"
    },
    "tags": []
   },
   "outputs": [
    {
     "data": {
      "text/plain": [
       "(844, 19)"
      ]
     },
     "execution_count": 45,
     "metadata": {},
     "output_type": "execute_result"
    }
   ],
   "source": [
    "df1.shape"
   ]
  },
  {
   "cell_type": "code",
   "execution_count": 46,
   "id": "c728617c",
   "metadata": {
    "execution": {
     "iopub.execute_input": "2022-12-28T02:43:30.343361Z",
     "iopub.status.busy": "2022-12-28T02:43:30.342881Z",
     "iopub.status.idle": "2022-12-28T02:43:30.352153Z",
     "shell.execute_reply": "2022-12-28T02:43:30.350899Z"
    },
    "papermill": {
     "duration": 0.05517,
     "end_time": "2022-12-28T02:43:30.354318",
     "exception": false,
     "start_time": "2022-12-28T02:43:30.299148",
     "status": "completed"
    },
    "tags": []
   },
   "outputs": [
    {
     "data": {
      "text/plain": [
       "Y    422\n",
       "N    422\n",
       "Name: Loan_Status, dtype: int64"
      ]
     },
     "execution_count": 46,
     "metadata": {},
     "output_type": "execute_result"
    }
   ],
   "source": [
    "# determine whether tha target column is balanced or not\n",
    "y.value_counts()"
   ]
  },
  {
   "cell_type": "code",
   "execution_count": 47,
   "id": "68c2b551",
   "metadata": {
    "execution": {
     "iopub.execute_input": "2022-12-28T02:43:30.440232Z",
     "iopub.status.busy": "2022-12-28T02:43:30.439091Z",
     "iopub.status.idle": "2022-12-28T02:43:30.443724Z",
     "shell.execute_reply": "2022-12-28T02:43:30.442928Z"
    },
    "papermill": {
     "duration": 0.049922,
     "end_time": "2022-12-28T02:43:30.445901",
     "exception": false,
     "start_time": "2022-12-28T02:43:30.395979",
     "status": "completed"
    },
    "tags": []
   },
   "outputs": [],
   "source": [
    "from sklearn.preprocessing import LabelEncoder"
   ]
  },
  {
   "cell_type": "code",
   "execution_count": 48,
   "id": "f5d764ac",
   "metadata": {
    "execution": {
     "iopub.execute_input": "2022-12-28T02:43:30.533785Z",
     "iopub.status.busy": "2022-12-28T02:43:30.532918Z",
     "iopub.status.idle": "2022-12-28T02:43:30.542140Z",
     "shell.execute_reply": "2022-12-28T02:43:30.541270Z"
    },
    "papermill": {
     "duration": 0.056198,
     "end_time": "2022-12-28T02:43:30.544351",
     "exception": false,
     "start_time": "2022-12-28T02:43:30.488153",
     "status": "completed"
    },
    "tags": []
   },
   "outputs": [
    {
     "data": {
      "text/plain": [
       "0      Y\n",
       "1      N\n",
       "2      Y\n",
       "3      Y\n",
       "4      Y\n",
       "      ..\n",
       "839    N\n",
       "840    N\n",
       "841    N\n",
       "842    N\n",
       "843    N\n",
       "Name: Loan_Status, Length: 844, dtype: object"
      ]
     },
     "execution_count": 48,
     "metadata": {},
     "output_type": "execute_result"
    }
   ],
   "source": [
    "df1['Loan_Status']"
   ]
  },
  {
   "cell_type": "code",
   "execution_count": 49,
   "id": "ee93da3d",
   "metadata": {
    "execution": {
     "iopub.execute_input": "2022-12-28T02:43:30.630263Z",
     "iopub.status.busy": "2022-12-28T02:43:30.629570Z",
     "iopub.status.idle": "2022-12-28T02:43:30.633974Z",
     "shell.execute_reply": "2022-12-28T02:43:30.632983Z"
    },
    "papermill": {
     "duration": 0.049976,
     "end_time": "2022-12-28T02:43:30.636294",
     "exception": false,
     "start_time": "2022-12-28T02:43:30.586318",
     "status": "completed"
    },
    "tags": []
   },
   "outputs": [],
   "source": [
    "labelencoder = LabelEncoder()"
   ]
  },
  {
   "cell_type": "code",
   "execution_count": 50,
   "id": "c53ed1b4",
   "metadata": {
    "execution": {
     "iopub.execute_input": "2022-12-28T02:43:30.722261Z",
     "iopub.status.busy": "2022-12-28T02:43:30.721547Z",
     "iopub.status.idle": "2022-12-28T02:43:30.727502Z",
     "shell.execute_reply": "2022-12-28T02:43:30.726134Z"
    },
    "papermill": {
     "duration": 0.051846,
     "end_time": "2022-12-28T02:43:30.729980",
     "exception": false,
     "start_time": "2022-12-28T02:43:30.678134",
     "status": "completed"
    },
    "tags": []
   },
   "outputs": [],
   "source": [
    "# Convert the target variable into binary format\n",
    "y = labelencoder.fit_transform(df1['Loan_Status'])"
   ]
  },
  {
   "cell_type": "code",
   "execution_count": 51,
   "id": "4b3e53a1",
   "metadata": {
    "execution": {
     "iopub.execute_input": "2022-12-28T02:43:30.821838Z",
     "iopub.status.busy": "2022-12-28T02:43:30.820894Z",
     "iopub.status.idle": "2022-12-28T02:43:30.831798Z",
     "shell.execute_reply": "2022-12-28T02:43:30.830459Z"
    },
    "papermill": {
     "duration": 0.060227,
     "end_time": "2022-12-28T02:43:30.834260",
     "exception": false,
     "start_time": "2022-12-28T02:43:30.774033",
     "status": "completed"
    },
    "tags": []
   },
   "outputs": [
    {
     "data": {
      "text/plain": [
       "array([1, 0, 1, 1, 1, 1, 1, 0, 1, 0, 1, 1, 1, 0, 1, 1, 1, 0, 0, 1, 0, 1,\n",
       "       0, 0, 0, 1, 1, 1, 0, 1, 0, 0, 0, 1, 0, 1, 0, 1, 1, 1, 0, 1, 1, 1,\n",
       "       1, 1, 1, 1, 0, 1, 1, 1, 0, 0, 0, 1, 1, 0, 1, 1, 1, 1, 0, 0, 0, 0,\n",
       "       0, 1, 1, 0, 1, 1, 1, 0, 1, 0, 0, 0, 0, 1, 1, 1, 0, 0, 1, 1, 1, 1,\n",
       "       1, 1, 1, 1, 1, 1, 1, 0, 1, 1, 1, 1, 1, 1, 1, 1, 1, 1, 1, 0, 0, 1,\n",
       "       1, 1, 0, 1, 1, 1, 1, 1, 0, 1, 1, 1, 1, 1, 1, 1, 1, 1, 0, 0, 1, 1,\n",
       "       1, 1, 1, 0, 0, 1, 0, 0, 0, 1, 1, 1, 1, 1, 1, 1, 0, 1, 0, 1, 0, 0,\n",
       "       1, 1, 1, 1, 1, 1, 1, 0, 0, 1, 1, 1, 0, 1, 0, 1, 1, 1, 0, 1, 0, 1,\n",
       "       1, 0, 1, 0, 0, 0, 1, 0, 1, 1, 0, 1, 1, 1, 1, 0, 0, 1, 1, 0, 1, 1,\n",
       "       1, 0, 1, 1, 0, 1, 1, 1, 1, 1, 1, 0, 0, 0, 1, 1, 1, 1, 0, 1, 0, 1,\n",
       "       0, 1, 1, 1, 1, 0, 0, 1, 1, 1, 1, 1, 1, 1, 1, 1, 0, 1, 1, 1, 1, 0,\n",
       "       1, 1, 1, 0, 1, 1, 1, 1, 0, 0, 1, 1, 0, 1, 0, 0, 0, 0, 1, 1, 0, 1,\n",
       "       1, 1, 1, 1, 0, 1, 1, 1, 1, 1, 1, 1, 1, 1, 1, 1, 0, 1, 1, 1, 0, 1,\n",
       "       0, 1, 1, 1, 1, 0, 1, 0, 1, 1, 1, 1, 0, 0, 0, 1, 1, 1, 1, 0, 1, 0,\n",
       "       0, 1, 1, 1, 1, 1, 0, 1, 1, 1, 1, 0, 1, 1, 1, 1, 1, 0, 1, 1, 0, 1,\n",
       "       1, 1, 1, 1, 1, 1, 1, 1, 0, 1, 0, 0, 1, 1, 1, 1, 0, 1, 1, 1, 1, 0,\n",
       "       1, 0, 1, 1, 1, 0, 0, 1, 0, 1, 1, 1, 1, 0, 0, 0, 1, 0, 1, 1, 1, 0,\n",
       "       1, 1, 1, 1, 0, 1, 1, 1, 1, 1, 0, 1, 1, 0, 1, 1, 1, 1, 1, 1, 1, 1,\n",
       "       0, 1, 1, 0, 0, 0, 1, 1, 0, 1, 1, 1, 0, 0, 0, 1, 0, 1, 0, 1, 0, 0,\n",
       "       1, 1, 1, 0, 1, 0, 1, 1, 0, 1, 1, 1, 1, 0, 1, 1, 1, 1, 1, 1, 0, 1,\n",
       "       1, 1, 1, 1, 1, 1, 1, 0, 0, 0, 0, 1, 0, 1, 1, 1, 1, 0, 1, 0, 1, 1,\n",
       "       1, 1, 0, 1, 0, 1, 1, 0, 1, 0, 1, 1, 1, 1, 1, 0, 1, 0, 1, 1, 1, 1,\n",
       "       1, 1, 0, 0, 1, 0, 1, 1, 1, 1, 0, 1, 1, 1, 1, 0, 1, 1, 1, 0, 1, 1,\n",
       "       1, 0, 1, 1, 0, 1, 1, 0, 0, 1, 1, 0, 0, 0, 1, 1, 1, 1, 0, 1, 1, 1,\n",
       "       1, 1, 1, 1, 0, 0, 1, 1, 1, 1, 0, 1, 1, 0, 1, 1, 1, 1, 0, 1, 0, 1,\n",
       "       0, 1, 1, 0, 0, 1, 1, 1, 1, 1, 1, 1, 1, 1, 0, 1, 1, 0, 0, 0, 1, 0,\n",
       "       1, 0, 0, 1, 0, 1, 1, 1, 1, 0, 1, 0, 0, 0, 1, 1, 1, 0, 1, 0, 1, 1,\n",
       "       1, 1, 0, 0, 1, 1, 0, 1, 1, 1, 1, 0, 1, 1, 1, 1, 1, 1, 1, 0, 0, 0,\n",
       "       0, 0, 0, 0, 0, 0, 0, 0, 0, 0, 0, 0, 0, 0, 0, 0, 0, 0, 0, 0, 0, 0,\n",
       "       0, 0, 0, 0, 0, 0, 0, 0, 0, 0, 0, 0, 0, 0, 0, 0, 0, 0, 0, 0, 0, 0,\n",
       "       0, 0, 0, 0, 0, 0, 0, 0, 0, 0, 0, 0, 0, 0, 0, 0, 0, 0, 0, 0, 0, 0,\n",
       "       0, 0, 0, 0, 0, 0, 0, 0, 0, 0, 0, 0, 0, 0, 0, 0, 0, 0, 0, 0, 0, 0,\n",
       "       0, 0, 0, 0, 0, 0, 0, 0, 0, 0, 0, 0, 0, 0, 0, 0, 0, 0, 0, 0, 0, 0,\n",
       "       0, 0, 0, 0, 0, 0, 0, 0, 0, 0, 0, 0, 0, 0, 0, 0, 0, 0, 0, 0, 0, 0,\n",
       "       0, 0, 0, 0, 0, 0, 0, 0, 0, 0, 0, 0, 0, 0, 0, 0, 0, 0, 0, 0, 0, 0,\n",
       "       0, 0, 0, 0, 0, 0, 0, 0, 0, 0, 0, 0, 0, 0, 0, 0, 0, 0, 0, 0, 0, 0,\n",
       "       0, 0, 0, 0, 0, 0, 0, 0, 0, 0, 0, 0, 0, 0, 0, 0, 0, 0, 0, 0, 0, 0,\n",
       "       0, 0, 0, 0, 0, 0, 0, 0, 0, 0, 0, 0, 0, 0, 0, 0, 0, 0, 0, 0, 0, 0,\n",
       "       0, 0, 0, 0, 0, 0, 0, 0])"
      ]
     },
     "execution_count": 51,
     "metadata": {},
     "output_type": "execute_result"
    }
   ],
   "source": [
    "y"
   ]
  },
  {
   "cell_type": "code",
   "execution_count": 52,
   "id": "7a409dc3",
   "metadata": {
    "execution": {
     "iopub.execute_input": "2022-12-28T02:43:30.923119Z",
     "iopub.status.busy": "2022-12-28T02:43:30.922398Z",
     "iopub.status.idle": "2022-12-28T02:43:30.931901Z",
     "shell.execute_reply": "2022-12-28T02:43:30.930892Z"
    },
    "papermill": {
     "duration": 0.056793,
     "end_time": "2022-12-28T02:43:30.934492",
     "exception": false,
     "start_time": "2022-12-28T02:43:30.877699",
     "status": "completed"
    },
    "tags": []
   },
   "outputs": [],
   "source": [
    "# segregate the target variable\n",
    "x = df1.drop(columns = ['Loan_Status'])\n",
    "\n",
    "# splitting data into training and test set\n",
    "x_train, x_test, y_train, y_test = train_test_split(x, y, test_size = 0.25, random_state = 42, stratify = y)"
   ]
  },
  {
   "cell_type": "code",
   "execution_count": 53,
   "id": "25291597",
   "metadata": {
    "execution": {
     "iopub.execute_input": "2022-12-28T02:43:31.022495Z",
     "iopub.status.busy": "2022-12-28T02:43:31.022069Z",
     "iopub.status.idle": "2022-12-28T02:43:31.030287Z",
     "shell.execute_reply": "2022-12-28T02:43:31.029199Z"
    },
    "papermill": {
     "duration": 0.055856,
     "end_time": "2022-12-28T02:43:31.032685",
     "exception": false,
     "start_time": "2022-12-28T02:43:30.976829",
     "status": "completed"
    },
    "tags": []
   },
   "outputs": [
    {
     "data": {
      "text/plain": [
       "(633, 18)"
      ]
     },
     "execution_count": 53,
     "metadata": {},
     "output_type": "execute_result"
    }
   ],
   "source": [
    "x_train.shape"
   ]
  },
  {
   "cell_type": "code",
   "execution_count": 54,
   "id": "f92e408b",
   "metadata": {
    "execution": {
     "iopub.execute_input": "2022-12-28T02:43:31.121885Z",
     "iopub.status.busy": "2022-12-28T02:43:31.121111Z",
     "iopub.status.idle": "2022-12-28T02:43:31.127617Z",
     "shell.execute_reply": "2022-12-28T02:43:31.126726Z"
    },
    "papermill": {
     "duration": 0.054508,
     "end_time": "2022-12-28T02:43:31.129885",
     "exception": false,
     "start_time": "2022-12-28T02:43:31.075377",
     "status": "completed"
    },
    "tags": []
   },
   "outputs": [
    {
     "data": {
      "text/plain": [
       "(211, 18)"
      ]
     },
     "execution_count": 54,
     "metadata": {},
     "output_type": "execute_result"
    }
   ],
   "source": [
    "x_test.shape"
   ]
  },
  {
   "cell_type": "code",
   "execution_count": 55,
   "id": "1833551a",
   "metadata": {
    "execution": {
     "iopub.execute_input": "2022-12-28T02:43:31.221397Z",
     "iopub.status.busy": "2022-12-28T02:43:31.220717Z",
     "iopub.status.idle": "2022-12-28T02:43:31.226727Z",
     "shell.execute_reply": "2022-12-28T02:43:31.225766Z"
    },
    "papermill": {
     "duration": 0.055054,
     "end_time": "2022-12-28T02:43:31.229049",
     "exception": false,
     "start_time": "2022-12-28T02:43:31.173995",
     "status": "completed"
    },
    "tags": []
   },
   "outputs": [
    {
     "data": {
      "text/plain": [
       "(633,)"
      ]
     },
     "execution_count": 55,
     "metadata": {},
     "output_type": "execute_result"
    }
   ],
   "source": [
    "y_train.shape"
   ]
  },
  {
   "cell_type": "code",
   "execution_count": 56,
   "id": "585ba4d4",
   "metadata": {
    "execution": {
     "iopub.execute_input": "2022-12-28T02:43:31.319907Z",
     "iopub.status.busy": "2022-12-28T02:43:31.319425Z",
     "iopub.status.idle": "2022-12-28T02:43:31.326487Z",
     "shell.execute_reply": "2022-12-28T02:43:31.325320Z"
    },
    "papermill": {
     "duration": 0.054826,
     "end_time": "2022-12-28T02:43:31.329069",
     "exception": false,
     "start_time": "2022-12-28T02:43:31.274243",
     "status": "completed"
    },
    "tags": []
   },
   "outputs": [
    {
     "data": {
      "text/plain": [
       "(211,)"
      ]
     },
     "execution_count": 56,
     "metadata": {},
     "output_type": "execute_result"
    }
   ],
   "source": [
    "y_test.shape"
   ]
  },
  {
   "cell_type": "markdown",
   "id": "e6513ccd",
   "metadata": {
    "papermill": {
     "duration": 0.0438,
     "end_time": "2022-12-28T02:43:31.419585",
     "exception": false,
     "start_time": "2022-12-28T02:43:31.375785",
     "status": "completed"
    },
    "tags": []
   },
   "source": [
    "# Developing Classification Models"
   ]
  },
  {
   "cell_type": "code",
   "execution_count": 57,
   "id": "b4e53888",
   "metadata": {
    "execution": {
     "iopub.execute_input": "2022-12-28T02:43:31.509615Z",
     "iopub.status.busy": "2022-12-28T02:43:31.509187Z",
     "iopub.status.idle": "2022-12-28T02:43:31.522465Z",
     "shell.execute_reply": "2022-12-28T02:43:31.520771Z"
    },
    "papermill": {
     "duration": 0.06353,
     "end_time": "2022-12-28T02:43:31.526139",
     "exception": false,
     "start_time": "2022-12-28T02:43:31.462609",
     "status": "completed"
    },
    "tags": []
   },
   "outputs": [],
   "source": [
    "def get_metrics_score(clf, flag = True):\n",
    "    '''\n",
    "    Function to calculate the following metrics of a fitted classifier - Accuracy, Recall and Precision\n",
    "    Params:\n",
    "    -------\n",
    "    clf: a fitted classifier to predict values\n",
    "    '''\n",
    "\n",
    "    # defining an empty list to store train and test results\n",
    "    score_list=[] \n",
    "    # predict on both the training and test sets\n",
    "    pred_train = clf.predict(x_train)\n",
    "    pred_test = clf.predict(x_test)\n",
    "    # calculate Accuracy\n",
    "    train_acc = accuracy_score(y_train, pred_train)\n",
    "    test_acc = accuracy_score(y_test, pred_test)\n",
    "    # calculate Recall\n",
    "    train_recall = recall_score(y_train, pred_train)\n",
    "    test_recall = recall_score(y_test, pred_test)\n",
    "    # calculate Precision\n",
    "    train_precision = precision_score(y_train, pred_train)\n",
    "    test_precision = precision_score(y_test, pred_test)\n",
    "    # calculate F1 score\n",
    "    F1_Score = f1_score(y_test, pred_test)\n",
    "    # calculate ROC_AUC_score\n",
    "    Roc_Auc_score = roc_auc_score(y_test, pred_test)    \n",
    "    # add these scores to score_list\n",
    "    score_list.extend((train_acc, test_acc, train_recall, test_recall, train_precision, test_precision, f1_score, roc_auc_score))\n",
    "        \n",
    "    # If the flag is set to True then only the following print statements will be dispayed. The default value is set to True.\n",
    "    if flag == True: \n",
    "        print(\"Accuracy on training set : \", train_acc)\n",
    "        print(\"Accuracy on test set : \", test_acc)\n",
    "        print(\"Recall on training set : \", train_recall)\n",
    "        print(\"Recall on test set : \", test_recall)\n",
    "        print(\"Precision on training set : \", train_precision)\n",
    "        print(\"Precision on test set : \", test_precision)\n",
    "        print(\"F1_Score : \", F1_Score)\n",
    "        print(\"Roc_Auc_score : \", Roc_Auc_score)\n",
    "    \n",
    "    return score_list # returning the list with train and test scores"
   ]
  },
  {
   "cell_type": "markdown",
   "id": "a8d38b4d",
   "metadata": {
    "papermill": {
     "duration": 0.043763,
     "end_time": "2022-12-28T02:43:31.615213",
     "exception": false,
     "start_time": "2022-12-28T02:43:31.571450",
     "status": "completed"
    },
    "tags": []
   },
   "source": [
    "# RandomForest Classifier"
   ]
  },
  {
   "cell_type": "code",
   "execution_count": 58,
   "id": "4b451ecc",
   "metadata": {
    "execution": {
     "iopub.execute_input": "2022-12-28T02:43:31.703751Z",
     "iopub.status.busy": "2022-12-28T02:43:31.703307Z",
     "iopub.status.idle": "2022-12-28T02:43:31.931900Z",
     "shell.execute_reply": "2022-12-28T02:43:31.930762Z"
    },
    "papermill": {
     "duration": 0.275239,
     "end_time": "2022-12-28T02:43:31.934436",
     "exception": false,
     "start_time": "2022-12-28T02:43:31.659197",
     "status": "completed"
    },
    "tags": []
   },
   "outputs": [],
   "source": [
    "rf = RandomForestClassifier(random_state = 42, class_weight = 'balanced')\n",
    "rf.fit(x_train, y_train)\n",
    "predictions_rf = rf.predict(x_test)"
   ]
  },
  {
   "cell_type": "code",
   "execution_count": 59,
   "id": "7fe6f3a1",
   "metadata": {
    "execution": {
     "iopub.execute_input": "2022-12-28T02:43:32.022780Z",
     "iopub.status.busy": "2022-12-28T02:43:32.022263Z",
     "iopub.status.idle": "2022-12-28T02:43:32.029987Z",
     "shell.execute_reply": "2022-12-28T02:43:32.028705Z"
    },
    "papermill": {
     "duration": 0.05444,
     "end_time": "2022-12-28T02:43:32.032265",
     "exception": false,
     "start_time": "2022-12-28T02:43:31.977825",
     "status": "completed"
    },
    "tags": []
   },
   "outputs": [
    {
     "data": {
      "text/plain": [
       "(211,)"
      ]
     },
     "execution_count": 59,
     "metadata": {},
     "output_type": "execute_result"
    }
   ],
   "source": [
    "predictions_rf.shape"
   ]
  },
  {
   "cell_type": "code",
   "execution_count": 60,
   "id": "62783378",
   "metadata": {
    "execution": {
     "iopub.execute_input": "2022-12-28T02:43:32.121064Z",
     "iopub.status.busy": "2022-12-28T02:43:32.120593Z",
     "iopub.status.idle": "2022-12-28T02:43:32.127231Z",
     "shell.execute_reply": "2022-12-28T02:43:32.126097Z"
    },
    "papermill": {
     "duration": 0.054044,
     "end_time": "2022-12-28T02:43:32.129331",
     "exception": false,
     "start_time": "2022-12-28T02:43:32.075287",
     "status": "completed"
    },
    "tags": []
   },
   "outputs": [],
   "source": [
    "def draw_cm(actual,predicted):\n",
    "    cm = confusion_matrix(actual,predicted)\n",
    "    sns.heatmap(cm,annot=True, fmt='.2f', xticklabels=[0,1], yticklabels=[0,1])\n",
    "    plt.ylabel('observed')\n",
    "    plt.xlabel('Predicted')\n",
    "    plt.show()"
   ]
  },
  {
   "cell_type": "code",
   "execution_count": 61,
   "id": "eef62a6c",
   "metadata": {
    "execution": {
     "iopub.execute_input": "2022-12-28T02:43:32.217303Z",
     "iopub.status.busy": "2022-12-28T02:43:32.216911Z",
     "iopub.status.idle": "2022-12-28T02:43:32.476208Z",
     "shell.execute_reply": "2022-12-28T02:43:32.474965Z"
    },
    "papermill": {
     "duration": 0.306455,
     "end_time": "2022-12-28T02:43:32.478890",
     "exception": false,
     "start_time": "2022-12-28T02:43:32.172435",
     "status": "completed"
    },
    "tags": []
   },
   "outputs": [
    {
     "data": {
      "image/png": "[encoded data removed]",
      "text/plain": [
       "<Figure size 432x288 with 2 Axes>"
      ]
     },
     "metadata": {
      "needs_background": "light"
     },
     "output_type": "display_data"
    }
   ],
   "source": [
    "draw_cm(y_test, predictions_rf)"
   ]
  },
  {
   "cell_type": "code",
   "execution_count": 62,
   "id": "f03eabf9",
   "metadata": {
    "execution": {
     "iopub.execute_input": "2022-12-28T02:43:32.566506Z",
     "iopub.status.busy": "2022-12-28T02:43:32.566127Z",
     "iopub.status.idle": "2022-12-28T02:43:32.577083Z",
     "shell.execute_reply": "2022-12-28T02:43:32.575091Z"
    },
    "papermill": {
     "duration": 0.05831,
     "end_time": "2022-12-28T02:43:32.580099",
     "exception": false,
     "start_time": "2022-12-28T02:43:32.521789",
     "status": "completed"
    },
    "scrolled": true,
    "tags": []
   },
   "outputs": [
    {
     "name": "stdout",
     "output_type": "stream",
     "text": [
      "              precision    recall  f1-score   support\n",
      "\n",
      "           0       0.83      0.86      0.84       106\n",
      "           1       0.85      0.82      0.83       105\n",
      "\n",
      "    accuracy                           0.84       211\n",
      "   macro avg       0.84      0.84      0.84       211\n",
      "weighted avg       0.84      0.84      0.84       211\n",
      "\n"
     ]
    }
   ],
   "source": [
    "print(classification_report(y_test, predictions_rf))"
   ]
  },
  {
   "cell_type": "code",
   "execution_count": 63,
   "id": "e1c7201e",
   "metadata": {
    "execution": {
     "iopub.execute_input": "2022-12-28T02:43:32.669136Z",
     "iopub.status.busy": "2022-12-28T02:43:32.668446Z",
     "iopub.status.idle": "2022-12-28T02:43:32.727517Z",
     "shell.execute_reply": "2022-12-28T02:43:32.726489Z"
    },
    "papermill": {
     "duration": 0.106704,
     "end_time": "2022-12-28T02:43:32.730461",
     "exception": false,
     "start_time": "2022-12-28T02:43:32.623757",
     "status": "completed"
    },
    "tags": []
   },
   "outputs": [
    {
     "name": "stdout",
     "output_type": "stream",
     "text": [
      "Accuracy on training set :  0.9984202211690363\n",
      "Accuracy on test set :  0.8388625592417062\n",
      "Recall on training set :  0.9968454258675079\n",
      "Recall on test set :  0.819047619047619\n",
      "Precision on training set :  1.0\n",
      "Precision on test set :  0.8514851485148515\n",
      "F1_Score :  0.8349514563106796\n",
      "Roc_Auc_score :  0.8387690925426774\n"
     ]
    }
   ],
   "source": [
    "rf_scores = get_metrics_score(rf)"
   ]
  },
  {
   "cell_type": "markdown",
   "id": "e68af5ce",
   "metadata": {
    "papermill": {
     "duration": 0.044255,
     "end_time": "2022-12-28T02:43:32.819118",
     "exception": false,
     "start_time": "2022-12-28T02:43:32.774863",
     "status": "completed"
    },
    "tags": []
   },
   "source": [
    "# Bagging Classifier on Random Forest"
   ]
  },
  {
   "cell_type": "code",
   "execution_count": 64,
   "id": "1ee74f83",
   "metadata": {
    "execution": {
     "iopub.execute_input": "2022-12-28T02:43:32.907153Z",
     "iopub.status.busy": "2022-12-28T02:43:32.906742Z",
     "iopub.status.idle": "2022-12-28T02:43:34.927160Z",
     "shell.execute_reply": "2022-12-28T02:43:34.925801Z"
    },
    "papermill": {
     "duration": 2.067711,
     "end_time": "2022-12-28T02:43:34.929979",
     "exception": false,
     "start_time": "2022-12-28T02:43:32.862268",
     "status": "completed"
    },
    "tags": []
   },
   "outputs": [],
   "source": [
    "baggingrf = BaggingClassifier(rf, random_state = 42)\n",
    "baggingrf.fit(x_train, y_train)\n",
    "predictions_baggingrf = baggingrf.predict(x_test)"
   ]
  },
  {
   "cell_type": "code",
   "execution_count": 65,
   "id": "e5f3bc3f",
   "metadata": {
    "execution": {
     "iopub.execute_input": "2022-12-28T02:43:35.024111Z",
     "iopub.status.busy": "2022-12-28T02:43:35.023537Z",
     "iopub.status.idle": "2022-12-28T02:43:35.282815Z",
     "shell.execute_reply": "2022-12-28T02:43:35.281579Z"
    },
    "papermill": {
     "duration": 0.308958,
     "end_time": "2022-12-28T02:43:35.285451",
     "exception": false,
     "start_time": "2022-12-28T02:43:34.976493",
     "status": "completed"
    },
    "scrolled": true,
    "tags": []
   },
   "outputs": [
    {
     "data": {
      "image/png": "[encoded data removed]",
      "text/plain": [
       "<Figure size 432x288 with 2 Axes>"
      ]
     },
     "metadata": {
      "needs_background": "light"
     },
     "output_type": "display_data"
    }
   ],
   "source": [
    "draw_cm(y_test, predictions_baggingrf)"
   ]
  },
  {
   "cell_type": "code",
   "execution_count": 66,
   "id": "affcb114",
   "metadata": {
    "execution": {
     "iopub.execute_input": "2022-12-28T02:43:35.378654Z",
     "iopub.status.busy": "2022-12-28T02:43:35.378216Z",
     "iopub.status.idle": "2022-12-28T02:43:35.390148Z",
     "shell.execute_reply": "2022-12-28T02:43:35.388498Z"
    },
    "papermill": {
     "duration": 0.06162,
     "end_time": "2022-12-28T02:43:35.392692",
     "exception": false,
     "start_time": "2022-12-28T02:43:35.331072",
     "status": "completed"
    },
    "tags": []
   },
   "outputs": [
    {
     "name": "stdout",
     "output_type": "stream",
     "text": [
      "              precision    recall  f1-score   support\n",
      "\n",
      "           0       0.75      0.81      0.78       106\n",
      "           1       0.79      0.73      0.76       105\n",
      "\n",
      "    accuracy                           0.77       211\n",
      "   macro avg       0.77      0.77      0.77       211\n",
      "weighted avg       0.77      0.77      0.77       211\n",
      "\n"
     ]
    }
   ],
   "source": [
    "print(classification_report(y_test, predictions_baggingrf))"
   ]
  },
  {
   "cell_type": "code",
   "execution_count": 67,
   "id": "18df2e13",
   "metadata": {
    "execution": {
     "iopub.execute_input": "2022-12-28T02:43:35.483473Z",
     "iopub.status.busy": "2022-12-28T02:43:35.482999Z",
     "iopub.status.idle": "2022-12-28T02:43:35.896569Z",
     "shell.execute_reply": "2022-12-28T02:43:35.894809Z"
    },
    "papermill": {
     "duration": 0.462983,
     "end_time": "2022-12-28T02:43:35.900135",
     "exception": false,
     "start_time": "2022-12-28T02:43:35.437152",
     "status": "completed"
    },
    "tags": []
   },
   "outputs": [
    {
     "name": "stdout",
     "output_type": "stream",
     "text": [
      "Accuracy on training set :  0.9699842022116903\n",
      "Accuracy on test set :  0.7725118483412322\n",
      "Recall on training set :  0.9621451104100947\n",
      "Recall on test set :  0.7333333333333333\n",
      "Precision on training set :  0.9775641025641025\n",
      "Precision on test set :  0.7938144329896907\n",
      "F1_Score :  0.7623762376237624\n",
      "Roc_Auc_score :  0.7723270440251573\n"
     ]
    }
   ],
   "source": [
    "baggingrf_scores = get_metrics_score(baggingrf)"
   ]
  },
  {
   "cell_type": "markdown",
   "id": "23de9806",
   "metadata": {
    "papermill": {
     "duration": 0.043419,
     "end_time": "2022-12-28T02:43:35.987829",
     "exception": false,
     "start_time": "2022-12-28T02:43:35.944410",
     "status": "completed"
    },
    "tags": []
   },
   "source": [
    "# Logistic Regression Classifier"
   ]
  },
  {
   "cell_type": "code",
   "execution_count": 68,
   "id": "6fc5a70a",
   "metadata": {
    "execution": {
     "iopub.execute_input": "2022-12-28T02:43:36.078648Z",
     "iopub.status.busy": "2022-12-28T02:43:36.077878Z",
     "iopub.status.idle": "2022-12-28T02:43:36.126072Z",
     "shell.execute_reply": "2022-12-28T02:43:36.124218Z"
    },
    "papermill": {
     "duration": 0.098729,
     "end_time": "2022-12-28T02:43:36.130653",
     "exception": false,
     "start_time": "2022-12-28T02:43:36.031924",
     "status": "completed"
    },
    "tags": []
   },
   "outputs": [],
   "source": [
    "lr = LogisticRegression(random_state = 42, class_weight = None)\n",
    "lr.fit(x_train, y_train)\n",
    "predictions_lr = lr.predict(x_test)"
   ]
  },
  {
   "cell_type": "code",
   "execution_count": 69,
   "id": "962aeec0",
   "metadata": {
    "execution": {
     "iopub.execute_input": "2022-12-28T02:43:36.290245Z",
     "iopub.status.busy": "2022-12-28T02:43:36.289855Z",
     "iopub.status.idle": "2022-12-28T02:43:36.296928Z",
     "shell.execute_reply": "2022-12-28T02:43:36.295748Z"
    },
    "papermill": {
     "duration": 0.055102,
     "end_time": "2022-12-28T02:43:36.299180",
     "exception": false,
     "start_time": "2022-12-28T02:43:36.244078",
     "status": "completed"
    },
    "tags": []
   },
   "outputs": [
    {
     "data": {
      "text/plain": [
       "(211,)"
      ]
     },
     "execution_count": 69,
     "metadata": {},
     "output_type": "execute_result"
    }
   ],
   "source": [
    "predictions_lr.shape"
   ]
  },
  {
   "cell_type": "code",
   "execution_count": 70,
   "id": "b1a27498",
   "metadata": {
    "execution": {
     "iopub.execute_input": "2022-12-28T02:43:36.389024Z",
     "iopub.status.busy": "2022-12-28T02:43:36.388580Z",
     "iopub.status.idle": "2022-12-28T02:43:36.647010Z",
     "shell.execute_reply": "2022-12-28T02:43:36.645728Z"
    },
    "papermill": {
     "duration": 0.30672,
     "end_time": "2022-12-28T02:43:36.649615",
     "exception": false,
     "start_time": "2022-12-28T02:43:36.342895",
     "status": "completed"
    },
    "tags": []
   },
   "outputs": [
    {
     "data": {
      "image/png": "[encoded data removed]",
      "text/plain": [
       "<Figure size 432x288 with 2 Axes>"
      ]
     },
     "metadata": {
      "needs_background": "light"
     },
     "output_type": "display_data"
    }
   ],
   "source": [
    "draw_cm(y_test, predictions_lr)"
   ]
  },
  {
   "cell_type": "code",
   "execution_count": 71,
   "id": "4d1e97e3",
   "metadata": {
    "execution": {
     "iopub.execute_input": "2022-12-28T02:43:36.743229Z",
     "iopub.status.busy": "2022-12-28T02:43:36.742820Z",
     "iopub.status.idle": "2022-12-28T02:43:36.753149Z",
     "shell.execute_reply": "2022-12-28T02:43:36.751669Z"
    },
    "papermill": {
     "duration": 0.061852,
     "end_time": "2022-12-28T02:43:36.755820",
     "exception": false,
     "start_time": "2022-12-28T02:43:36.693968",
     "status": "completed"
    },
    "tags": []
   },
   "outputs": [
    {
     "name": "stdout",
     "output_type": "stream",
     "text": [
      "              precision    recall  f1-score   support\n",
      "\n",
      "           0       0.58      0.58      0.58       106\n",
      "           1       0.58      0.58      0.58       105\n",
      "\n",
      "    accuracy                           0.58       211\n",
      "   macro avg       0.58      0.58      0.58       211\n",
      "weighted avg       0.58      0.58      0.58       211\n",
      "\n"
     ]
    }
   ],
   "source": [
    "print(classification_report(y_test, predictions_lr))"
   ]
  },
  {
   "cell_type": "code",
   "execution_count": 72,
   "id": "0cc7fb44",
   "metadata": {
    "execution": {
     "iopub.execute_input": "2022-12-28T02:43:36.854496Z",
     "iopub.status.busy": "2022-12-28T02:43:36.853437Z",
     "iopub.status.idle": "2022-12-28T02:43:36.908725Z",
     "shell.execute_reply": "2022-12-28T02:43:36.906772Z"
    },
    "papermill": {
     "duration": 0.113773,
     "end_time": "2022-12-28T02:43:36.913764",
     "exception": false,
     "start_time": "2022-12-28T02:43:36.799991",
     "status": "completed"
    },
    "tags": []
   },
   "outputs": [
    {
     "name": "stdout",
     "output_type": "stream",
     "text": [
      "Accuracy on training set :  0.5797788309636651\n",
      "Accuracy on test set :  0.5829383886255924\n",
      "Recall on training set :  0.6182965299684543\n",
      "Recall on test set :  0.580952380952381\n",
      "Precision on training set :  0.5747800586510264\n",
      "Precision on test set :  0.580952380952381\n",
      "F1_Score :  0.580952380952381\n",
      "Roc_Auc_score :  0.5829290206648697\n"
     ]
    }
   ],
   "source": [
    "logistic_regression_scores = get_metrics_score(lr)"
   ]
  },
  {
   "cell_type": "markdown",
   "id": "b3250240",
   "metadata": {
    "papermill": {
     "duration": 0.049746,
     "end_time": "2022-12-28T02:43:37.054519",
     "exception": false,
     "start_time": "2022-12-28T02:43:37.004773",
     "status": "completed"
    },
    "tags": []
   },
   "source": [
    "# KNN Classifier"
   ]
  },
  {
   "cell_type": "code",
   "execution_count": 73,
   "id": "dc0bb9c6",
   "metadata": {
    "execution": {
     "iopub.execute_input": "2022-12-28T02:43:37.144568Z",
     "iopub.status.busy": "2022-12-28T02:43:37.144143Z",
     "iopub.status.idle": "2022-12-28T02:43:37.149625Z",
     "shell.execute_reply": "2022-12-28T02:43:37.148358Z"
    },
    "papermill": {
     "duration": 0.053562,
     "end_time": "2022-12-28T02:43:37.152312",
     "exception": false,
     "start_time": "2022-12-28T02:43:37.098750",
     "status": "completed"
    },
    "tags": []
   },
   "outputs": [],
   "source": [
    "from sklearn.neighbors import KNeighborsClassifier"
   ]
  },
  {
   "cell_type": "code",
   "execution_count": 74,
   "id": "5852f31b",
   "metadata": {
    "execution": {
     "iopub.execute_input": "2022-12-28T02:43:37.243248Z",
     "iopub.status.busy": "2022-12-28T02:43:37.242801Z",
     "iopub.status.idle": "2022-12-28T02:43:37.248071Z",
     "shell.execute_reply": "2022-12-28T02:43:37.246774Z"
    },
    "papermill": {
     "duration": 0.054599,
     "end_time": "2022-12-28T02:43:37.250889",
     "exception": false,
     "start_time": "2022-12-28T02:43:37.196290",
     "status": "completed"
    },
    "tags": []
   },
   "outputs": [],
   "source": [
    "knn = KNeighborsClassifier(n_neighbors = 10, algorithm = 'kd_tree')"
   ]
  },
  {
   "cell_type": "code",
   "execution_count": 75,
   "id": "06c92ea2",
   "metadata": {
    "execution": {
     "iopub.execute_input": "2022-12-28T02:43:37.341185Z",
     "iopub.status.busy": "2022-12-28T02:43:37.340746Z",
     "iopub.status.idle": "2022-12-28T02:43:37.359149Z",
     "shell.execute_reply": "2022-12-28T02:43:37.357884Z"
    },
    "papermill": {
     "duration": 0.066522,
     "end_time": "2022-12-28T02:43:37.362087",
     "exception": false,
     "start_time": "2022-12-28T02:43:37.295565",
     "status": "completed"
    },
    "tags": []
   },
   "outputs": [],
   "source": [
    "knn.fit(x_train, y_train)\n",
    "predictions_knn = knn.predict(x_test)"
   ]
  },
  {
   "cell_type": "code",
   "execution_count": 76,
   "id": "6864a051",
   "metadata": {
    "execution": {
     "iopub.execute_input": "2022-12-28T02:43:37.455012Z",
     "iopub.status.busy": "2022-12-28T02:43:37.453853Z",
     "iopub.status.idle": "2022-12-28T02:43:37.461461Z",
     "shell.execute_reply": "2022-12-28T02:43:37.460438Z"
    },
    "papermill": {
     "duration": 0.05528,
     "end_time": "2022-12-28T02:43:37.463640",
     "exception": false,
     "start_time": "2022-12-28T02:43:37.408360",
     "status": "completed"
    },
    "tags": []
   },
   "outputs": [
    {
     "data": {
      "text/plain": [
       "(211,)"
      ]
     },
     "execution_count": 76,
     "metadata": {},
     "output_type": "execute_result"
    }
   ],
   "source": [
    "predictions_knn.shape"
   ]
  },
  {
   "cell_type": "code",
   "execution_count": 77,
   "id": "aa7788cb",
   "metadata": {
    "execution": {
     "iopub.execute_input": "2022-12-28T02:43:37.554820Z",
     "iopub.status.busy": "2022-12-28T02:43:37.554051Z",
     "iopub.status.idle": "2022-12-28T02:43:37.726217Z",
     "shell.execute_reply": "2022-12-28T02:43:37.725198Z"
    },
    "papermill": {
     "duration": 0.22344,
     "end_time": "2022-12-28T02:43:37.731954",
     "exception": false,
     "start_time": "2022-12-28T02:43:37.508514",
     "status": "completed"
    },
    "scrolled": true,
    "tags": []
   },
   "outputs": [
    {
     "data": {
      "image/png": "[encoded data removed]",
      "text/plain": [
       "<Figure size 432x288 with 2 Axes>"
      ]
     },
     "metadata": {
      "needs_background": "light"
     },
     "output_type": "display_data"
    }
   ],
   "source": [
    "draw_cm(y_test, predictions_knn)"
   ]
  },
  {
   "cell_type": "code",
   "execution_count": 78,
   "id": "c6054179",
   "metadata": {
    "execution": {
     "iopub.execute_input": "2022-12-28T02:43:37.828010Z",
     "iopub.status.busy": "2022-12-28T02:43:37.827287Z",
     "iopub.status.idle": "2022-12-28T02:43:37.838939Z",
     "shell.execute_reply": "2022-12-28T02:43:37.836452Z"
    },
    "papermill": {
     "duration": 0.06109,
     "end_time": "2022-12-28T02:43:37.841445",
     "exception": false,
     "start_time": "2022-12-28T02:43:37.780355",
     "status": "completed"
    },
    "tags": []
   },
   "outputs": [
    {
     "name": "stdout",
     "output_type": "stream",
     "text": [
      "              precision    recall  f1-score   support\n",
      "\n",
      "           0       0.60      0.74      0.66       106\n",
      "           1       0.66      0.51      0.58       105\n",
      "\n",
      "    accuracy                           0.63       211\n",
      "   macro avg       0.63      0.63      0.62       211\n",
      "weighted avg       0.63      0.63      0.62       211\n",
      "\n"
     ]
    }
   ],
   "source": [
    "print(classification_report(y_test, predictions_knn))"
   ]
  },
  {
   "cell_type": "code",
   "execution_count": 79,
   "id": "6ddff540",
   "metadata": {
    "execution": {
     "iopub.execute_input": "2022-12-28T02:43:37.934909Z",
     "iopub.status.busy": "2022-12-28T02:43:37.933862Z",
     "iopub.status.idle": "2022-12-28T02:43:37.978517Z",
     "shell.execute_reply": "2022-12-28T02:43:37.976902Z"
    },
    "papermill": {
     "duration": 0.094901,
     "end_time": "2022-12-28T02:43:37.981498",
     "exception": false,
     "start_time": "2022-12-28T02:43:37.886597",
     "status": "completed"
    },
    "tags": []
   },
   "outputs": [
    {
     "name": "stdout",
     "output_type": "stream",
     "text": [
      "Accuracy on training set :  0.665086887835703\n",
      "Accuracy on test set :  0.6255924170616114\n",
      "Recall on training set :  0.5425867507886435\n",
      "Recall on test set :  0.5142857142857142\n",
      "Precision on training set :  0.7196652719665272\n",
      "Precision on test set :  0.6585365853658537\n",
      "F1_Score :  0.5775401069518715\n",
      "Roc_Auc_score :  0.6250673854447439\n"
     ]
    }
   ],
   "source": [
    "knn_scores = get_metrics_score(knn)"
   ]
  },
  {
   "cell_type": "markdown",
   "id": "04ad33c8",
   "metadata": {
    "papermill": {
     "duration": 0.045443,
     "end_time": "2022-12-28T02:43:38.073508",
     "exception": false,
     "start_time": "2022-12-28T02:43:38.028065",
     "status": "completed"
    },
    "tags": []
   },
   "source": [
    "# Bagging Classifier on KNN"
   ]
  },
  {
   "cell_type": "code",
   "execution_count": 80,
   "id": "253d79a7",
   "metadata": {
    "execution": {
     "iopub.execute_input": "2022-12-28T02:43:38.165605Z",
     "iopub.status.busy": "2022-12-28T02:43:38.165179Z",
     "iopub.status.idle": "2022-12-28T02:43:38.219300Z",
     "shell.execute_reply": "2022-12-28T02:43:38.218414Z"
    },
    "papermill": {
     "duration": 0.103659,
     "end_time": "2022-12-28T02:43:38.221889",
     "exception": false,
     "start_time": "2022-12-28T02:43:38.118230",
     "status": "completed"
    },
    "tags": []
   },
   "outputs": [],
   "source": [
    "baggingknn = BaggingClassifier(knn, random_state = 42)\n",
    "baggingknn.fit(x_train, y_train)\n",
    "predictions_bknn = baggingknn.predict(x_test)"
   ]
  },
  {
   "cell_type": "code",
   "execution_count": 81,
   "id": "a0dad5ac",
   "metadata": {
    "execution": {
     "iopub.execute_input": "2022-12-28T02:43:38.315366Z",
     "iopub.status.busy": "2022-12-28T02:43:38.314353Z",
     "iopub.status.idle": "2022-12-28T02:43:38.324710Z",
     "shell.execute_reply": "2022-12-28T02:43:38.323094Z"
    },
    "papermill": {
     "duration": 0.059581,
     "end_time": "2022-12-28T02:43:38.327582",
     "exception": false,
     "start_time": "2022-12-28T02:43:38.268001",
     "status": "completed"
    },
    "tags": []
   },
   "outputs": [
    {
     "name": "stdout",
     "output_type": "stream",
     "text": [
      "              precision    recall  f1-score   support\n",
      "\n",
      "           0       0.62      0.72      0.66       106\n",
      "           1       0.66      0.55      0.60       105\n",
      "\n",
      "    accuracy                           0.64       211\n",
      "   macro avg       0.64      0.63      0.63       211\n",
      "weighted avg       0.64      0.64      0.63       211\n",
      "\n"
     ]
    }
   ],
   "source": [
    "print(classification_report(y_test, predictions_bknn))"
   ]
  },
  {
   "cell_type": "code",
   "execution_count": 82,
   "id": "beea1e68",
   "metadata": {
    "execution": {
     "iopub.execute_input": "2022-12-28T02:43:38.421577Z",
     "iopub.status.busy": "2022-12-28T02:43:38.421121Z",
     "iopub.status.idle": "2022-12-28T02:43:38.509384Z",
     "shell.execute_reply": "2022-12-28T02:43:38.507585Z"
    },
    "papermill": {
     "duration": 0.138868,
     "end_time": "2022-12-28T02:43:38.512141",
     "exception": false,
     "start_time": "2022-12-28T02:43:38.373273",
     "status": "completed"
    },
    "tags": []
   },
   "outputs": [
    {
     "name": "stdout",
     "output_type": "stream",
     "text": [
      "Accuracy on training set :  0.6714060031595577\n",
      "Accuracy on test set :  0.6350710900473934\n",
      "Recall on training set :  0.6056782334384858\n",
      "Recall on test set :  0.5523809523809524\n",
      "Precision on training set :  0.6981818181818182\n",
      "Precision on test set :  0.6590909090909091\n",
      "F1_Score :  0.601036269430052\n",
      "Roc_Auc_score :  0.6346810422282121\n"
     ]
    }
   ],
   "source": [
    "baggingknn_scores = get_metrics_score(baggingknn)"
   ]
  },
  {
   "cell_type": "code",
   "execution_count": 83,
   "id": "18e42dc2",
   "metadata": {
    "execution": {
     "iopub.execute_input": "2022-12-28T02:43:38.606955Z",
     "iopub.status.busy": "2022-12-28T02:43:38.606116Z",
     "iopub.status.idle": "2022-12-28T02:43:38.847142Z",
     "shell.execute_reply": "2022-12-28T02:43:38.845928Z"
    },
    "papermill": {
     "duration": 0.291,
     "end_time": "2022-12-28T02:43:38.849900",
     "exception": false,
     "start_time": "2022-12-28T02:43:38.558900",
     "status": "completed"
    },
    "tags": []
   },
   "outputs": [
    {
     "data": {
      "image/png": "[encoded data removed]",
      "text/plain": [
       "<Figure size 432x288 with 2 Axes>"
      ]
     },
     "metadata": {
      "needs_background": "light"
     },
     "output_type": "display_data"
    }
   ],
   "source": [
    "draw_cm(y_test, predictions_bknn)"
   ]
  },
  {
   "cell_type": "markdown",
   "id": "b1d6c93d",
   "metadata": {
    "papermill": {
     "duration": 0.046579,
     "end_time": "2022-12-28T02:43:38.942186",
     "exception": false,
     "start_time": "2022-12-28T02:43:38.895607",
     "status": "completed"
    },
    "tags": []
   },
   "source": [
    "# Boosting"
   ]
  },
  {
   "cell_type": "markdown",
   "id": "439addf2",
   "metadata": {
    "papermill": {
     "duration": 0.046284,
     "end_time": "2022-12-28T02:43:39.035604",
     "exception": false,
     "start_time": "2022-12-28T02:43:38.989320",
     "status": "completed"
    },
    "tags": []
   },
   "source": [
    "## AdaBoost"
   ]
  },
  {
   "cell_type": "code",
   "execution_count": 84,
   "id": "805b9587",
   "metadata": {
    "execution": {
     "iopub.execute_input": "2022-12-28T02:43:39.129730Z",
     "iopub.status.busy": "2022-12-28T02:43:39.128549Z",
     "iopub.status.idle": "2022-12-28T02:43:39.242246Z",
     "shell.execute_reply": "2022-12-28T02:43:39.241252Z"
    },
    "papermill": {
     "duration": 0.165106,
     "end_time": "2022-12-28T02:43:39.246095",
     "exception": false,
     "start_time": "2022-12-28T02:43:39.080989",
     "status": "completed"
    },
    "tags": []
   },
   "outputs": [],
   "source": [
    "abc = AdaBoostClassifier(random_state = 42)\n",
    "abc.fit(x_train, y_train)\n",
    "predictions_abc = abc.predict(x_test)"
   ]
  },
  {
   "cell_type": "code",
   "execution_count": 85,
   "id": "a3a8e9e2",
   "metadata": {
    "execution": {
     "iopub.execute_input": "2022-12-28T02:43:39.341446Z",
     "iopub.status.busy": "2022-12-28T02:43:39.340724Z",
     "iopub.status.idle": "2022-12-28T02:43:39.591506Z",
     "shell.execute_reply": "2022-12-28T02:43:39.590221Z"
    },
    "papermill": {
     "duration": 0.301718,
     "end_time": "2022-12-28T02:43:39.594357",
     "exception": false,
     "start_time": "2022-12-28T02:43:39.292639",
     "status": "completed"
    },
    "tags": []
   },
   "outputs": [
    {
     "data": {
      "image/png": "[encoded data removed]",
      "text/plain": [
       "<Figure size 432x288 with 2 Axes>"
      ]
     },
     "metadata": {
      "needs_background": "light"
     },
     "output_type": "display_data"
    }
   ],
   "source": [
    "draw_cm(y_test, predictions_abc)"
   ]
  },
  {
   "cell_type": "code",
   "execution_count": 86,
   "id": "abb83bc2",
   "metadata": {
    "execution": {
     "iopub.execute_input": "2022-12-28T02:43:39.688448Z",
     "iopub.status.busy": "2022-12-28T02:43:39.688011Z",
     "iopub.status.idle": "2022-12-28T02:43:39.699623Z",
     "shell.execute_reply": "2022-12-28T02:43:39.697748Z"
    },
    "papermill": {
     "duration": 0.061144,
     "end_time": "2022-12-28T02:43:39.702421",
     "exception": false,
     "start_time": "2022-12-28T02:43:39.641277",
     "status": "completed"
    },
    "tags": []
   },
   "outputs": [
    {
     "name": "stdout",
     "output_type": "stream",
     "text": [
      "              precision    recall  f1-score   support\n",
      "\n",
      "           0       0.56      0.57      0.56       106\n",
      "           1       0.56      0.55      0.56       105\n",
      "\n",
      "    accuracy                           0.56       211\n",
      "   macro avg       0.56      0.56      0.56       211\n",
      "weighted avg       0.56      0.56      0.56       211\n",
      "\n"
     ]
    }
   ],
   "source": [
    "print(classification_report(y_test, predictions_abc))"
   ]
  },
  {
   "cell_type": "markdown",
   "id": "9cf7b7d5",
   "metadata": {
    "papermill": {
     "duration": 0.047862,
     "end_time": "2022-12-28T02:43:39.799112",
     "exception": false,
     "start_time": "2022-12-28T02:43:39.751250",
     "status": "completed"
    },
    "tags": []
   },
   "source": []
  },
  {
   "cell_type": "code",
   "execution_count": 87,
   "id": "b39a1d0f",
   "metadata": {
    "execution": {
     "iopub.execute_input": "2022-12-28T02:43:39.892925Z",
     "iopub.status.busy": "2022-12-28T02:43:39.892475Z",
     "iopub.status.idle": "2022-12-28T02:43:39.931885Z",
     "shell.execute_reply": "2022-12-28T02:43:39.930701Z"
    },
    "papermill": {
     "duration": 0.088817,
     "end_time": "2022-12-28T02:43:39.934437",
     "exception": false,
     "start_time": "2022-12-28T02:43:39.845620",
     "status": "completed"
    },
    "tags": []
   },
   "outputs": [
    {
     "name": "stdout",
     "output_type": "stream",
     "text": [
      "Accuracy on training set :  0.6682464454976303\n",
      "Accuracy on test set :  0.5592417061611374\n",
      "Recall on training set :  0.7192429022082019\n",
      "Recall on test set :  0.5523809523809524\n",
      "Precision on training set :  0.6532951289398281\n",
      "Precision on test set :  0.5576923076923077\n",
      "F1_Score :  0.5550239234449761\n",
      "Roc_Auc_score :  0.5592093441150046\n"
     ]
    }
   ],
   "source": [
    "abc_scores = get_metrics_score(abc)"
   ]
  },
  {
   "cell_type": "markdown",
   "id": "1ac3e44f",
   "metadata": {
    "papermill": {
     "duration": 0.045733,
     "end_time": "2022-12-28T02:43:40.026824",
     "exception": false,
     "start_time": "2022-12-28T02:43:39.981091",
     "status": "completed"
    },
    "tags": []
   },
   "source": [
    "## XGBoost Classifier"
   ]
  },
  {
   "cell_type": "code",
   "execution_count": 88,
   "id": "659bdf28",
   "metadata": {
    "execution": {
     "iopub.execute_input": "2022-12-28T02:43:40.121406Z",
     "iopub.status.busy": "2022-12-28T02:43:40.120377Z",
     "iopub.status.idle": "2022-12-28T02:43:40.455335Z",
     "shell.execute_reply": "2022-12-28T02:43:40.454394Z"
    },
    "papermill": {
     "duration": 0.384363,
     "end_time": "2022-12-28T02:43:40.458081",
     "exception": false,
     "start_time": "2022-12-28T02:43:40.073718",
     "status": "completed"
    },
    "tags": []
   },
   "outputs": [],
   "source": [
    "xgb = XGBClassifier(random_state = 42, scale_pos_weight = 1)\n",
    "xgb.fit(x_train, y_train)\n",
    "predictions_xgb = xgb.predict(x_test)"
   ]
  },
  {
   "cell_type": "code",
   "execution_count": 89,
   "id": "a73a9554",
   "metadata": {
    "execution": {
     "iopub.execute_input": "2022-12-28T02:43:40.554199Z",
     "iopub.status.busy": "2022-12-28T02:43:40.553775Z",
     "iopub.status.idle": "2022-12-28T02:43:40.800383Z",
     "shell.execute_reply": "2022-12-28T02:43:40.799179Z"
    },
    "papermill": {
     "duration": 0.296781,
     "end_time": "2022-12-28T02:43:40.803004",
     "exception": false,
     "start_time": "2022-12-28T02:43:40.506223",
     "status": "completed"
    },
    "tags": []
   },
   "outputs": [
    {
     "data": {
      "image/png": "[encoded data removed]",
      "text/plain": [
       "<Figure size 432x288 with 2 Axes>"
      ]
     },
     "metadata": {
      "needs_background": "light"
     },
     "output_type": "display_data"
    }
   ],
   "source": [
    "def draw_cm(actual,predicted):\n",
    "    cm = confusion_matrix(actual,predicted)\n",
    "    sns.heatmap(cm,annot=True, fmt='.2f', xticklabels=[0,1], yticklabels=[0,1])\n",
    "    plt.ylabel('observed')\n",
    "    plt.xlabel('Predicted')\n",
    "    plt.show()\n",
    "\n",
    "draw_cm(y_test, predictions_xgb)"
   ]
  },
  {
   "cell_type": "code",
   "execution_count": 90,
   "id": "1792d650",
   "metadata": {
    "execution": {
     "iopub.execute_input": "2022-12-28T02:43:40.903192Z",
     "iopub.status.busy": "2022-12-28T02:43:40.902571Z",
     "iopub.status.idle": "2022-12-28T02:43:40.916142Z",
     "shell.execute_reply": "2022-12-28T02:43:40.913855Z"
    },
    "papermill": {
     "duration": 0.066736,
     "end_time": "2022-12-28T02:43:40.919733",
     "exception": false,
     "start_time": "2022-12-28T02:43:40.852997",
     "status": "completed"
    },
    "tags": []
   },
   "outputs": [
    {
     "name": "stdout",
     "output_type": "stream",
     "text": [
      "              precision    recall  f1-score   support\n",
      "\n",
      "           0       0.79      0.88      0.83       106\n",
      "           1       0.86      0.76      0.81       105\n",
      "\n",
      "    accuracy                           0.82       211\n",
      "   macro avg       0.82      0.82      0.82       211\n",
      "weighted avg       0.82      0.82      0.82       211\n",
      "\n"
     ]
    }
   ],
   "source": [
    "print(classification_report(y_test, predictions_xgb))"
   ]
  },
  {
   "cell_type": "code",
   "execution_count": 91,
   "id": "e55bb01e",
   "metadata": {
    "execution": {
     "iopub.execute_input": "2022-12-28T02:43:41.014684Z",
     "iopub.status.busy": "2022-12-28T02:43:41.013593Z",
     "iopub.status.idle": "2022-12-28T02:43:41.049938Z",
     "shell.execute_reply": "2022-12-28T02:43:41.047897Z"
    },
    "papermill": {
     "duration": 0.08652,
     "end_time": "2022-12-28T02:43:41.053128",
     "exception": false,
     "start_time": "2022-12-28T02:43:40.966608",
     "status": "completed"
    },
    "tags": []
   },
   "outputs": [
    {
     "name": "stdout",
     "output_type": "stream",
     "text": [
      "Accuracy on training set :  0.990521327014218\n",
      "Accuracy on test set :  0.8199052132701422\n",
      "Recall on training set :  0.9905362776025236\n",
      "Recall on test set :  0.7619047619047619\n",
      "Precision on training set :  0.9905362776025236\n",
      "Precision on test set :  0.8602150537634409\n",
      "F1_Score :  0.8080808080808081\n",
      "Roc_Auc_score :  0.8196316262353999\n"
     ]
    }
   ],
   "source": [
    "xgb_scores = get_metrics_score(xgb)"
   ]
  },
  {
   "cell_type": "markdown",
   "id": "7f80f5ca",
   "metadata": {
    "papermill": {
     "duration": 0.046767,
     "end_time": "2022-12-28T02:43:41.146014",
     "exception": false,
     "start_time": "2022-12-28T02:43:41.099247",
     "status": "completed"
    },
    "tags": []
   },
   "source": [
    "# Choosing the best models"
   ]
  },
  {
   "cell_type": "code",
   "execution_count": 92,
   "id": "ae05f99f",
   "metadata": {
    "execution": {
     "iopub.execute_input": "2022-12-28T02:43:41.242588Z",
     "iopub.status.busy": "2022-12-28T02:43:41.241328Z",
     "iopub.status.idle": "2022-12-28T02:43:41.259303Z",
     "shell.execute_reply": "2022-12-28T02:43:41.258125Z"
    },
    "papermill": {
     "duration": 0.067541,
     "end_time": "2022-12-28T02:43:41.261721",
     "exception": false,
     "start_time": "2022-12-28T02:43:41.194180",
     "status": "completed"
    },
    "tags": []
   },
   "outputs": [
    {
     "data": {
      "text/html": [
       "<div>\n",
       "<style scoped>\n",
       "    .dataframe tbody tr th:only-of-type {\n",
       "        vertical-align: middle;\n",
       "    }\n",
       "\n",
       "    .dataframe tbody tr th {\n",
       "        vertical-align: top;\n",
       "    }\n",
       "\n",
       "    .dataframe thead th {\n",
       "        text-align: right;\n",
       "    }\n",
       "</style>\n",
       "<table border=\"1\" class=\"dataframe\">\n",
       "  <thead>\n",
       "    <tr style=\"text-align: right;\">\n",
       "      <th></th>\n",
       "      <th>Random Forest</th>\n",
       "      <th>Bagging Random Forest</th>\n",
       "      <th>Logistic Regression</th>\n",
       "      <th>KNN</th>\n",
       "      <th>Bagging KNN</th>\n",
       "      <th>AdaBoost</th>\n",
       "      <th>XGBoost</th>\n",
       "    </tr>\n",
       "  </thead>\n",
       "  <tbody>\n",
       "    <tr>\n",
       "      <th>Accuracy - Train</th>\n",
       "      <td>0.99842</td>\n",
       "      <td>0.969984</td>\n",
       "      <td>0.579779</td>\n",
       "      <td>0.665087</td>\n",
       "      <td>0.671406</td>\n",
       "      <td>0.668246</td>\n",
       "      <td>0.990521</td>\n",
       "    </tr>\n",
       "    <tr>\n",
       "      <th>Accuracy - Test</th>\n",
       "      <td>0.838863</td>\n",
       "      <td>0.772512</td>\n",
       "      <td>0.582938</td>\n",
       "      <td>0.625592</td>\n",
       "      <td>0.635071</td>\n",
       "      <td>0.559242</td>\n",
       "      <td>0.819905</td>\n",
       "    </tr>\n",
       "    <tr>\n",
       "      <th>Recall - Train</th>\n",
       "      <td>0.996845</td>\n",
       "      <td>0.962145</td>\n",
       "      <td>0.618297</td>\n",
       "      <td>0.542587</td>\n",
       "      <td>0.605678</td>\n",
       "      <td>0.719243</td>\n",
       "      <td>0.990536</td>\n",
       "    </tr>\n",
       "    <tr>\n",
       "      <th>Recall - Test</th>\n",
       "      <td>0.819048</td>\n",
       "      <td>0.733333</td>\n",
       "      <td>0.580952</td>\n",
       "      <td>0.514286</td>\n",
       "      <td>0.552381</td>\n",
       "      <td>0.552381</td>\n",
       "      <td>0.761905</td>\n",
       "    </tr>\n",
       "    <tr>\n",
       "      <th>Precision - Train</th>\n",
       "      <td>1.0</td>\n",
       "      <td>0.977564</td>\n",
       "      <td>0.57478</td>\n",
       "      <td>0.719665</td>\n",
       "      <td>0.698182</td>\n",
       "      <td>0.653295</td>\n",
       "      <td>0.990536</td>\n",
       "    </tr>\n",
       "    <tr>\n",
       "      <th>Precision - Test</th>\n",
       "      <td>0.851485</td>\n",
       "      <td>0.793814</td>\n",
       "      <td>0.580952</td>\n",
       "      <td>0.658537</td>\n",
       "      <td>0.659091</td>\n",
       "      <td>0.557692</td>\n",
       "      <td>0.860215</td>\n",
       "    </tr>\n",
       "    <tr>\n",
       "      <th>F1</th>\n",
       "      <td>&lt;function f1_score at 0x7f84bcf7bdd0&gt;</td>\n",
       "      <td>&lt;function f1_score at 0x7f84bcf7bdd0&gt;</td>\n",
       "      <td>&lt;function f1_score at 0x7f84bcf7bdd0&gt;</td>\n",
       "      <td>&lt;function f1_score at 0x7f84bcf7bdd0&gt;</td>\n",
       "      <td>&lt;function f1_score at 0x7f84bcf7bdd0&gt;</td>\n",
       "      <td>&lt;function f1_score at 0x7f84bcf7bdd0&gt;</td>\n",
       "      <td>&lt;function f1_score at 0x7f84bcf7bdd0&gt;</td>\n",
       "    </tr>\n",
       "    <tr>\n",
       "      <th>ROC</th>\n",
       "      <td>&lt;function roc_auc_score at 0x7f84bcf74290&gt;</td>\n",
       "      <td>&lt;function roc_auc_score at 0x7f84bcf74290&gt;</td>\n",
       "      <td>&lt;function roc_auc_score at 0x7f84bcf74290&gt;</td>\n",
       "      <td>&lt;function roc_auc_score at 0x7f84bcf74290&gt;</td>\n",
       "      <td>&lt;function roc_auc_score at 0x7f84bcf74290&gt;</td>\n",
       "      <td>&lt;function roc_auc_score at 0x7f84bcf74290&gt;</td>\n",
       "      <td>&lt;function roc_auc_score at 0x7f84bcf74290&gt;</td>\n",
       "    </tr>\n",
       "  </tbody>\n",
       "</table>\n",
       "</div>"
      ],
      "text/plain": [
       "                                                Random Forest  \\\n",
       "Accuracy - Train                                      0.99842   \n",
       "Accuracy - Test                                      0.838863   \n",
       "Recall - Train                                       0.996845   \n",
       "Recall - Test                                        0.819048   \n",
       "Precision - Train                                         1.0   \n",
       "Precision - Test                                     0.851485   \n",
       "F1                      <function f1_score at 0x7f84bcf7bdd0>   \n",
       "ROC                <function roc_auc_score at 0x7f84bcf74290>   \n",
       "\n",
       "                                        Bagging Random Forest  \\\n",
       "Accuracy - Train                                     0.969984   \n",
       "Accuracy - Test                                      0.772512   \n",
       "Recall - Train                                       0.962145   \n",
       "Recall - Test                                        0.733333   \n",
       "Precision - Train                                    0.977564   \n",
       "Precision - Test                                     0.793814   \n",
       "F1                      <function f1_score at 0x7f84bcf7bdd0>   \n",
       "ROC                <function roc_auc_score at 0x7f84bcf74290>   \n",
       "\n",
       "                                          Logistic Regression  \\\n",
       "Accuracy - Train                                     0.579779   \n",
       "Accuracy - Test                                      0.582938   \n",
       "Recall - Train                                       0.618297   \n",
       "Recall - Test                                        0.580952   \n",
       "Precision - Train                                     0.57478   \n",
       "Precision - Test                                     0.580952   \n",
       "F1                      <function f1_score at 0x7f84bcf7bdd0>   \n",
       "ROC                <function roc_auc_score at 0x7f84bcf74290>   \n",
       "\n",
       "                                                          KNN  \\\n",
       "Accuracy - Train                                     0.665087   \n",
       "Accuracy - Test                                      0.625592   \n",
       "Recall - Train                                       0.542587   \n",
       "Recall - Test                                        0.514286   \n",
       "Precision - Train                                    0.719665   \n",
       "Precision - Test                                     0.658537   \n",
       "F1                      <function f1_score at 0x7f84bcf7bdd0>   \n",
       "ROC                <function roc_auc_score at 0x7f84bcf74290>   \n",
       "\n",
       "                                                  Bagging KNN  \\\n",
       "Accuracy - Train                                     0.671406   \n",
       "Accuracy - Test                                      0.635071   \n",
       "Recall - Train                                       0.605678   \n",
       "Recall - Test                                        0.552381   \n",
       "Precision - Train                                    0.698182   \n",
       "Precision - Test                                     0.659091   \n",
       "F1                      <function f1_score at 0x7f84bcf7bdd0>   \n",
       "ROC                <function roc_auc_score at 0x7f84bcf74290>   \n",
       "\n",
       "                                                     AdaBoost  \\\n",
       "Accuracy - Train                                     0.668246   \n",
       "Accuracy - Test                                      0.559242   \n",
       "Recall - Train                                       0.719243   \n",
       "Recall - Test                                        0.552381   \n",
       "Precision - Train                                    0.653295   \n",
       "Precision - Test                                     0.557692   \n",
       "F1                      <function f1_score at 0x7f84bcf7bdd0>   \n",
       "ROC                <function roc_auc_score at 0x7f84bcf74290>   \n",
       "\n",
       "                                                      XGBoost  \n",
       "Accuracy - Train                                     0.990521  \n",
       "Accuracy - Test                                      0.819905  \n",
       "Recall - Train                                       0.990536  \n",
       "Recall - Test                                        0.761905  \n",
       "Precision - Train                                    0.990536  \n",
       "Precision - Test                                     0.860215  \n",
       "F1                      <function f1_score at 0x7f84bcf7bdd0>  \n",
       "ROC                <function roc_auc_score at 0x7f84bcf74290>  "
      ]
     },
     "execution_count": 92,
     "metadata": {},
     "output_type": "execute_result"
    }
   ],
   "source": [
    "pd.DataFrame(data = {'Random Forest': rf_scores, 'Bagging Random Forest': baggingrf_scores, 'Logistic Regression': logistic_regression_scores, 'KNN': knn_scores, 'Bagging KNN': baggingknn_scores,'AdaBoost': abc_scores, 'XGBoost': xgb_scores}, index = ['Accuracy - Train', 'Accuracy - Test', 'Recall - Train', 'Recall - Test', 'Precision - Train', 'Precision - Test', 'F1', 'ROC'])"
   ]
  },
  {
   "cell_type": "markdown",
   "id": "7b1a98d0",
   "metadata": {
    "papermill": {
     "duration": 0.046227,
     "end_time": "2022-12-28T02:43:41.356739",
     "exception": false,
     "start_time": "2022-12-28T02:43:41.310512",
     "status": "completed"
    },
    "tags": []
   },
   "source": [
    "Based on the above chart, Random Forest and XGBoost by far outperform all other models, with the former edging slightly ahead on Accuracy while the latter being superior based on Precision_Test. Also, with a close enough Accuracy on both train and test data, the model does not appear to be overfitting.\n",
    "\n",
    "We will now Cross-Validate both these models to see the results"
   ]
  },
  {
   "cell_type": "markdown",
   "id": "47e6aa5d",
   "metadata": {
    "papermill": {
     "duration": 0.04861,
     "end_time": "2022-12-28T02:43:41.455027",
     "exception": false,
     "start_time": "2022-12-28T02:43:41.406417",
     "status": "completed"
    },
    "tags": []
   },
   "source": [
    "# Cross Validation"
   ]
  },
  {
   "cell_type": "code",
   "execution_count": 93,
   "id": "2cfc3691",
   "metadata": {
    "execution": {
     "iopub.execute_input": "2022-12-28T02:43:41.555744Z",
     "iopub.status.busy": "2022-12-28T02:43:41.555309Z",
     "iopub.status.idle": "2022-12-28T02:43:42.637613Z",
     "shell.execute_reply": "2022-12-28T02:43:42.636015Z"
    },
    "papermill": {
     "duration": 1.137476,
     "end_time": "2022-12-28T02:43:42.640248",
     "exception": false,
     "start_time": "2022-12-28T02:43:41.502772",
     "status": "completed"
    },
    "tags": []
   },
   "outputs": [
    {
     "name": "stdout",
     "output_type": "stream",
     "text": [
      "Cross Validation Scores:  [0.72781065 0.68047337 0.72189349 0.79881657 0.98809524]\n",
      "Average CV Score:  0.783417864187095\n",
      "Number of CV Scores used in Average:  5\n"
     ]
    }
   ],
   "source": [
    "from sklearn.model_selection import KFold, cross_val_score\n",
    "\n",
    "clf = RandomForestClassifier(random_state=42)\n",
    "\n",
    "k_folds = KFold(n_splits = 5)\n",
    "\n",
    "scores = cross_val_score(clf, x, y, cv = k_folds)\n",
    "\n",
    "print(\"Cross Validation Scores: \", scores)\n",
    "print(\"Average CV Score: \", scores.mean())\n",
    "print(\"Number of CV Scores used in Average: \", len(scores))"
   ]
  },
  {
   "cell_type": "code",
   "execution_count": 94,
   "id": "8e816ef2",
   "metadata": {
    "execution": {
     "iopub.execute_input": "2022-12-28T02:43:42.736724Z",
     "iopub.status.busy": "2022-12-28T02:43:42.736246Z",
     "iopub.status.idle": "2022-12-28T02:43:45.302375Z",
     "shell.execute_reply": "2022-12-28T02:43:45.301447Z"
    },
    "papermill": {
     "duration": 2.62009,
     "end_time": "2022-12-28T02:43:45.306947",
     "exception": false,
     "start_time": "2022-12-28T02:43:42.686857",
     "status": "completed"
    },
    "tags": []
   },
   "outputs": [
    {
     "name": "stdout",
     "output_type": "stream",
     "text": [
      "Cross Validation Scores:  [0.76331361 0.73372781 0.75739645 0.84023669 0.98214286]\n",
      "Average CV Score:  0.8153634826711749\n",
      "Number of CV Scores used in Average:  5\n"
     ]
    }
   ],
   "source": [
    "from sklearn.model_selection import KFold, cross_val_score\n",
    "\n",
    "clf = XGBClassifier(random_state=42)\n",
    "\n",
    "k_folds = KFold(n_splits = 5)\n",
    "\n",
    "scores = cross_val_score(clf, x, y, cv = k_folds)\n",
    "\n",
    "print(\"Cross Validation Scores: \", scores)\n",
    "print(\"Average CV Score: \", scores.mean())\n",
    "print(\"Number of CV Scores used in Average: \", len(scores))"
   ]
  },
  {
   "cell_type": "markdown",
   "id": "da02b693",
   "metadata": {
    "papermill": {
     "duration": 0.045854,
     "end_time": "2022-12-28T02:43:45.402284",
     "exception": false,
     "start_time": "2022-12-28T02:43:45.356430",
     "status": "completed"
    },
    "tags": []
   },
   "source": [
    "XGBoost takes a very slight edge after Corss Validation of the results.\n",
    "\n",
    "However, since the difference in CV is not significant, we will rely on our primary criteria, i.e., Accuracy - based on higher accuracy, Random Forest is our selected model"
   ]
  },
  {
   "cell_type": "markdown",
   "id": "5549ab2c",
   "metadata": {
    "papermill": {
     "duration": 0.045721,
     "end_time": "2022-12-28T02:43:45.495471",
     "exception": false,
     "start_time": "2022-12-28T02:43:45.449750",
     "status": "completed"
    },
    "tags": []
   },
   "source": [
    "# ROC Curve Plot"
   ]
  },
  {
   "cell_type": "markdown",
   "id": "f2d1bedd",
   "metadata": {
    "papermill": {
     "duration": 0.0461,
     "end_time": "2022-12-28T02:43:45.587820",
     "exception": false,
     "start_time": "2022-12-28T02:43:45.541720",
     "status": "completed"
    },
    "tags": []
   },
   "source": [
    "### RandomForest"
   ]
  },
  {
   "cell_type": "code",
   "execution_count": 95,
   "id": "0c156bb5",
   "metadata": {
    "execution": {
     "iopub.execute_input": "2022-12-28T02:43:45.681747Z",
     "iopub.status.busy": "2022-12-28T02:43:45.681308Z",
     "iopub.status.idle": "2022-12-28T02:43:45.687601Z",
     "shell.execute_reply": "2022-12-28T02:43:45.686490Z"
    },
    "papermill": {
     "duration": 0.055854,
     "end_time": "2022-12-28T02:43:45.689871",
     "exception": false,
     "start_time": "2022-12-28T02:43:45.634017",
     "status": "completed"
    },
    "tags": []
   },
   "outputs": [],
   "source": [
    "def plot_roc_curve(y_test, y_pred):\n",
    "    \"\"\"\n",
    "    plots the roc curve based of the probabilities\n",
    "    \"\"\"\n",
    "\n",
    "    fpr, tpr, thresholds = roc_curve(y_test, y_pred)\n",
    "    plt.plot(fpr, tpr)\n",
    "    plt.xlabel('False Positive Rate')\n",
    "    plt.ylabel('True Positive Rate')"
   ]
  },
  {
   "cell_type": "code",
   "execution_count": 96,
   "id": "3f161b25",
   "metadata": {
    "execution": {
     "iopub.execute_input": "2022-12-28T02:43:45.784018Z",
     "iopub.status.busy": "2022-12-28T02:43:45.783538Z",
     "iopub.status.idle": "2022-12-28T02:43:46.006048Z",
     "shell.execute_reply": "2022-12-28T02:43:46.004097Z"
    },
    "papermill": {
     "duration": 0.272649,
     "end_time": "2022-12-28T02:43:46.008785",
     "exception": false,
     "start_time": "2022-12-28T02:43:45.736136",
     "status": "completed"
    },
    "tags": []
   },
   "outputs": [
    {
     "name": "stdout",
     "output_type": "stream",
     "text": [
      "model 1 AUC score: 0.8387690925426774\n"
     ]
    },
    {
     "data": {
      "image/png": "[encoded data removed]",
      "text/plain": [
       "<Figure size 432x288 with 1 Axes>"
      ]
     },
     "metadata": {
      "needs_background": "light"
     },
     "output_type": "display_data"
    }
   ],
   "source": [
    "plot_roc_curve(y_test, predictions_rf)\n",
    "print(f'model 1 AUC score: {roc_auc_score(y_test, predictions_rf)}')"
   ]
  },
  {
   "cell_type": "markdown",
   "id": "dc6fb884",
   "metadata": {
    "papermill": {
     "duration": 0.048294,
     "end_time": "2022-12-28T02:43:46.105559",
     "exception": false,
     "start_time": "2022-12-28T02:43:46.057265",
     "status": "completed"
    },
    "tags": []
   },
   "source": [
    "### XGBoost"
   ]
  },
  {
   "cell_type": "code",
   "execution_count": 97,
   "id": "a12c2cac",
   "metadata": {
    "execution": {
     "iopub.execute_input": "2022-12-28T02:43:46.202387Z",
     "iopub.status.busy": "2022-12-28T02:43:46.201997Z",
     "iopub.status.idle": "2022-12-28T02:43:46.426986Z",
     "shell.execute_reply": "2022-12-28T02:43:46.425439Z"
    },
    "papermill": {
     "duration": 0.275988,
     "end_time": "2022-12-28T02:43:46.429818",
     "exception": false,
     "start_time": "2022-12-28T02:43:46.153830",
     "status": "completed"
    },
    "tags": []
   },
   "outputs": [
    {
     "name": "stdout",
     "output_type": "stream",
     "text": [
      "model 1 AUC score: 0.8196316262353999\n"
     ]
    },
    {
     "data": {
      "image/png": "[encoded data removed]",
      "text/plain": [
       "<Figure size 432x288 with 1 Axes>"
      ]
     },
     "metadata": {
      "needs_background": "light"
     },
     "output_type": "display_data"
    }
   ],
   "source": [
    "plot_roc_curve(y_test, predictions_xgb)\n",
    "print(f'model 1 AUC score: {roc_auc_score(y_test, predictions_xgb)}')"
   ]
  },
  {
   "cell_type": "markdown",
   "id": "5295b05f",
   "metadata": {
    "papermill": {
     "duration": 0.047955,
     "end_time": "2022-12-28T02:43:46.525743",
     "exception": false,
     "start_time": "2022-12-28T02:43:46.477788",
     "status": "completed"
    },
    "tags": []
   },
   "source": [
    "### FEATURE IMPORTANCE"
   ]
  },
  {
   "cell_type": "markdown",
   "id": "aa0eeb7a",
   "metadata": {
    "papermill": {
     "duration": 0.046888,
     "end_time": "2022-12-28T02:43:46.620586",
     "exception": false,
     "start_time": "2022-12-28T02:43:46.573698",
     "status": "completed"
    },
    "tags": []
   },
   "source": [
    "### Random Forest"
   ]
  },
  {
   "cell_type": "code",
   "execution_count": 98,
   "id": "fe7537ae",
   "metadata": {
    "execution": {
     "iopub.execute_input": "2022-12-28T02:43:46.717941Z",
     "iopub.status.busy": "2022-12-28T02:43:46.716921Z",
     "iopub.status.idle": "2022-12-28T02:43:46.736047Z",
     "shell.execute_reply": "2022-12-28T02:43:46.734466Z"
    },
    "papermill": {
     "duration": 0.071435,
     "end_time": "2022-12-28T02:43:46.739014",
     "exception": false,
     "start_time": "2022-12-28T02:43:46.667579",
     "status": "completed"
    },
    "tags": []
   },
   "outputs": [],
   "source": [
    "\n",
    "importances=rf.feature_importances_\n"
   ]
  },
  {
   "cell_type": "code",
   "execution_count": 99,
   "id": "f78e9b67",
   "metadata": {
    "execution": {
     "iopub.execute_input": "2022-12-28T02:43:46.839314Z",
     "iopub.status.busy": "2022-12-28T02:43:46.838567Z",
     "iopub.status.idle": "2022-12-28T02:43:46.845962Z",
     "shell.execute_reply": "2022-12-28T02:43:46.844723Z"
    },
    "papermill": {
     "duration": 0.062176,
     "end_time": "2022-12-28T02:43:46.848751",
     "exception": false,
     "start_time": "2022-12-28T02:43:46.786575",
     "status": "completed"
    },
    "tags": []
   },
   "outputs": [
    {
     "name": "stdout",
     "output_type": "stream",
     "text": [
      " 1) ApplicantIncome                0.408282\n",
      " 2) CoapplicantIncome              0.214944\n",
      " 3) Loan_Amount_Term               0.059241\n",
      " 4) Self_Employed_Yes              0.029094\n",
      " 5) Property_Area_Rural            0.028015\n",
      " 6) Loan_Status                    0.026365\n",
      " 7) Dependents_0                   0.023328\n",
      " 8) Dependents_1                   0.022921\n",
      " 9) Property_Area_Semiurban        0.022681\n",
      "10) Dependents_2                   0.022027\n",
      "11) Education_Not Graduate         0.020029\n",
      "12) Married_Yes                    0.019672\n",
      "13) Self_Employed_No               0.018725\n",
      "14) Married_No                     0.018395\n",
      "15) Education_Graduate             0.017152\n",
      "16) Gender_Male                    0.017074\n",
      "17) Dependents_3+                  0.016579\n",
      "18) Gender_Female                  0.015476\n"
     ]
    }
   ],
   "source": [
    "# Sort the feature importance in descending order\n",
    "#\n",
    "sorted_indices = np.argsort(importances)[::-1]\n",
    " \n",
    "feat_labels = df1.columns\n",
    " \n",
    "for f in range(x_train.shape[1]):\n",
    "    print(\"%2d) %-*s %f\" % (f + 1, 30,\n",
    "                            feat_labels[sorted_indices[f]],\n",
    "                            importances[sorted_indices[f]]))"
   ]
  },
  {
   "cell_type": "code",
   "execution_count": 100,
   "id": "5802eed2",
   "metadata": {
    "execution": {
     "iopub.execute_input": "2022-12-28T02:43:46.946249Z",
     "iopub.status.busy": "2022-12-28T02:43:46.945828Z",
     "iopub.status.idle": "2022-12-28T02:43:47.290037Z",
     "shell.execute_reply": "2022-12-28T02:43:47.289148Z"
    },
    "papermill": {
     "duration": 0.395776,
     "end_time": "2022-12-28T02:43:47.292378",
     "exception": false,
     "start_time": "2022-12-28T02:43:46.896602",
     "status": "completed"
    },
    "tags": []
   },
   "outputs": [
    {
     "data": {
      "image/png": "[encoded data removed]",
      "text/plain": [
       "<Figure size 432x288 with 1 Axes>"
      ]
     },
     "metadata": {
      "needs_background": "light"
     },
     "output_type": "display_data"
    }
   ],
   "source": [
    "plt.title('Feature Importance')\n",
    "plt.bar(range(x_train.shape[1]), importances[sorted_indices], align='center')\n",
    "plt.xticks(range(x_train.shape[1]), x_train.columns[sorted_indices], rotation=90)\n",
    "plt.tight_layout()\n",
    "plt.show()"
   ]
  },
  {
   "cell_type": "code",
   "execution_count": 101,
   "id": "40b8c345",
   "metadata": {
    "execution": {
     "iopub.execute_input": "2022-12-28T02:43:47.392870Z",
     "iopub.status.busy": "2022-12-28T02:43:47.391728Z",
     "iopub.status.idle": "2022-12-28T02:43:47.396560Z",
     "shell.execute_reply": "2022-12-28T02:43:47.395713Z"
    },
    "papermill": {
     "duration": 0.059085,
     "end_time": "2022-12-28T02:43:47.399181",
     "exception": false,
     "start_time": "2022-12-28T02:43:47.340096",
     "status": "completed"
    },
    "tags": []
   },
   "outputs": [],
   "source": [
    "# Based on the above analysis, Random Forest is the best model with the highest accuracy."
   ]
  },
  {
   "cell_type": "markdown",
   "id": "169d1c85",
   "metadata": {
    "papermill": {
     "duration": 0.047196,
     "end_time": "2022-12-28T02:43:47.494715",
     "exception": false,
     "start_time": "2022-12-28T02:43:47.447519",
     "status": "completed"
    },
    "tags": []
   },
   "source": []
  },
  {
   "cell_type": "markdown",
   "id": "509cf7a3",
   "metadata": {
    "papermill": {
     "duration": 0.047618,
     "end_time": "2022-12-28T02:43:47.592729",
     "exception": false,
     "start_time": "2022-12-28T02:43:47.545111",
     "status": "completed"
    },
    "tags": []
   },
   "source": []
  },
  {
   "cell_type": "markdown",
   "id": "929d3157",
   "metadata": {
    "papermill": {
     "duration": 0.047078,
     "end_time": "2022-12-28T02:43:47.687761",
     "exception": false,
     "start_time": "2022-12-28T02:43:47.640683",
     "status": "completed"
    },
    "tags": []
   },
   "source": []
  },
  {
   "cell_type": "markdown",
   "id": "bea30e99",
   "metadata": {
    "papermill": {
     "duration": 0.047073,
     "end_time": "2022-12-28T02:43:47.782232",
     "exception": false,
     "start_time": "2022-12-28T02:43:47.735159",
     "status": "completed"
    },
    "tags": []
   },
   "source": []
  }
 ],
 "metadata": {
  "kernelspec": {
   "display_name": "Python 3",
   "language": "python",
   "name": "python3"
  },
  "language_info": {
   "codemirror_mode": {
    "name": "ipython",
    "version": 3
   },
   "file_extension": ".py",
   "mimetype": "text/x-python",
   "name": "python",
   "nbconvert_exporter": "python",
   "pygments_lexer": "ipython3",
   "version": "3.7.12"
  },
  "papermill": {
   "default_parameters": {},
   "duration": 65.080019,
   "end_time": "2022-12-28T02:43:48.957600",
   "environment_variables": {},
   "exception": null,
   "input_path": "__notebook__.ipynb",
   "output_path": "__notebook__.ipynb",
   "parameters": {},
   "start_time": "2022-12-28T02:42:43.877581",
   "version": "2.3.4"
  }
 },
 "nbformat": 4,
 "nbformat_minor": 5
}
